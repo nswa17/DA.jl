{
 "cells": [
  {
   "cell_type": "code",
   "execution_count": 1,
   "metadata": {
    "collapsed": true
   },
   "outputs": [],
   "source": [
    "using DA"
   ]
  },
  {
   "cell_type": "code",
   "execution_count": 93,
   "metadata": {},
   "outputs": [
    {
     "data": {
      "text/plain": [
       "permutation2 (generic function with 1 method)"
      ]
     },
     "execution_count": 93,
     "metadata": {},
     "output_type": "execute_result"
    }
   ],
   "source": [
    "function permutation2(array)\n",
    "    len = length(array)\n",
    "    perms = Array{Tuple{Int, Int}}(len * (len - 1))\n",
    "    c = 1\n",
    "    for i in 1:len\n",
    "        for j in 1:len\n",
    "            if i != j\n",
    "                perms[c] = (i, j)\n",
    "                c += 1\n",
    "            end\n",
    "        end\n",
    "    end\n",
    "    return perms\n",
    "end"
   ]
  },
  {
   "cell_type": "code",
   "execution_count": 102,
   "metadata": {},
   "outputs": [
    {
     "data": {
      "text/plain": [
       "(Array{Int64,1}[[2, 8], [4, 5], [3, 1], [8, 1], [2, 6], [2, 8], [7, 1], [9, 5], [5, 4], [9, 1]], Array{Int64,1}[[1, 3, 5, 7, 10, 9, 4, 8, 2, 6], [8, 1, 6, 2, 3, 10, 7, 5, 4, 9], [8, 7, 10, 2, 3, 5, 6, 1, 9, 4], [1, 3, 7, 10, 5, 8, 4, 2, 9, 6], [10, 4, 7, 1, 8, 3, 2, 6, 9, 5], [4, 8, 10, 2, 1, 9, 6, 3, 5, 7], [6, 7, 1, 5, 8, 4, 9, 2, 3, 10], [2, 7, 3, 4, 10, 5, 6, 9, 8, 1], [4, 8, 6, 10, 9, 2, 3, 7, 5, 1], [9, 1, 6, 3, 2, 4, 8, 5, 10, 7]])"
      ]
     },
     "execution_count": 102,
     "metadata": {},
     "output_type": "execute_result"
    }
   ],
   "source": [
    "num_props, num_resps = 10, 10\n",
    "#caps = 5 * ones(Int, num_resps)\n",
    "max_prop_pref, max_resp_pref = 2, num_props\n",
    "original_prop_prefs, original_resp_prefs = generate_random_prefs(num_props, num_resps, max_prop_pref=max_prop_pref, max_resp_pref=max_resp_pref)"
   ]
  },
  {
   "cell_type": "code",
   "execution_count": 103,
   "metadata": {},
   "outputs": [
    {
     "name": "stdout",
     "output_type": "stream",
     "text": [
      "Array{Int64,1}[[2, 8], [4, 5], [3, 1], [8, 1], [2, 6], [2, 8], [7, 1], [9, 5], [5, 4], [9, 1]]\n",
      "Array{Int64,1}[[8, 2], [1, 7], [2, 3], [2, 5], [3, 1], [3, 7], [9, 6], [1, 8], [8, 3], [10, 1]]\n",
      "[1, 0, 0, 0, 0, 0, 0, 0, 0, 0]\n",
      "[1, 1, 0, 0, 2, 0, 1, 1, 1, 1]\n",
      "[1, 1, 2, 1, 2, 2, 1, 1, 1, 1]\n",
      "[1, 1, 1, 1, 2, 2, 1, 1, 1, 1]\n",
      "[1, 1, 1, 1, 2, 2, 1, 1, 1, 1]\n",
      "Array{Int64,1}[[8, 2], [1, 4], [2, 3], [1, 8], [2, 6], [1, 8], [2, 7], [2, 9], [2, 5], [3, 9]]\n"
     ]
    }
   ],
   "source": [
    "#prop_prefs, resp_prefs = copy(original_prop_prefs), copy(original_resp_prefs)\n",
    "seed = 0\n",
    "srand(seed)\n",
    "prop_prefs, resp_prefs = generate_random_prefs(num_props, num_resps, max_prop_pref=max_prop_pref, max_resp_pref=max_resp_pref)\n",
    "println(original_prop_prefs)\n",
    "println(prop_prefs)\n",
    "prop_matched0, resp_matched0 = deferred_acceptance(prop_prefs, resp_prefs)\n",
    "prop_ranks0 = [findfirst(original_prop_prefs[i], prop_matched0[i]) for i in 1:num_props]\n",
    "prop_ranks = copy(prop_ranks0)\n",
    "prefs_changing = true\n",
    "\n",
    "println(prop_ranks0)\n",
    "while prefs_changing\n",
    "    prefs_changing = false\n",
    "    for i in 1:num_props#shuffle(1:num_props)\n",
    "        for (r1, r2) in permutation2(1:num_resps)\n",
    "            new_prop_prefs = copy(prop_prefs)\n",
    "            new_prop_prefs[i] = [r1, r2]\n",
    "            prop_matched, resp_matched = deferred_acceptance(new_prop_prefs, resp_prefs)\n",
    "            prop_i_rank = findfirst(original_prop_prefs[i], prop_matched[i])\n",
    "            if prop_i_rank != 0 && (prop_ranks[i] == 0 || prop_i_rank < prop_ranks[i])\n",
    "                #println(i, \"success\")\n",
    "                prop_ranks[i] = prop_i_rank\n",
    "                prop_prefs[i] = new_prop_prefs[i]\n",
    "                prefs_changing = true\n",
    "            end\n",
    "        end\n",
    "    end\n",
    "    println(prop_ranks)\n",
    "end\n",
    "println(prop_prefs)"
   ]
  },
  {
   "cell_type": "code",
   "execution_count": null,
   "metadata": {
    "collapsed": true
   },
   "outputs": [],
   "source": []
  }
 ],
 "metadata": {
  "kernelspec": {
   "display_name": "Julia 0.6.0",
   "language": "julia",
   "name": "julia-0.6"
  },
  "language_info": {
   "file_extension": ".jl",
   "mimetype": "application/julia",
   "name": "julia",
   "version": "0.6.0"
  }
 },
 "nbformat": 4,
 "nbformat_minor": 2
}
