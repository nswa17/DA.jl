{
 "cells": [
  {
   "cell_type": "markdown",
   "metadata": {},
   "source": [
    "# DA Algorithm\n",
    "### 中田 竜明"
   ]
  },
  {
   "cell_type": "code",
   "execution_count": 24,
   "metadata": {
    "collapsed": false
   },
   "outputs": [
    {
     "name": "stderr",
     "output_type": "stream",
     "text": [
      "WARNING: replacing module DA\n"
     ]
    },
    {
     "data": {
      "text/plain": [
       "DA"
      ]
     },
     "execution_count": 24,
     "metadata": {},
     "output_type": "execute_result"
    }
   ],
   "source": [
    "include(\"da.jl\")"
   ]
  },
  {
   "cell_type": "markdown",
   "metadata": {
    "collapsed": false
   },
   "source": [
    "[ソースコード:da.jl](https://github.com/nswa17/DA_alg.jl/blob/master/da.jl)"
   ]
  },
  {
   "cell_type": "code",
   "execution_count": 4,
   "metadata": {
    "collapsed": false
   },
   "outputs": [
    {
     "data": {
      "text/plain": [
       "true"
      ]
     },
     "execution_count": 4,
     "metadata": {},
     "output_type": "execute_result"
    }
   ],
   "source": [
    "m, n = 100, 100\n",
    "m_prefs, f_prefs = DA.generate_random_preference_data(m, n)\n",
    "DA.check_data(m_prefs, f_prefs)"
   ]
  },
  {
   "cell_type": "markdown",
   "metadata": {},
   "source": [
    "まずm, nそれぞれに100を設定し, ランダムな選好表を作成します. ついでにデータのチェックも行っています."
   ]
  },
  {
   "cell_type": "code",
   "execution_count": 5,
   "metadata": {
    "collapsed": false
   },
   "outputs": [
    {
     "data": {
      "text/plain": [
       "true"
      ]
     },
     "execution_count": 5,
     "metadata": {},
     "output_type": "execute_result"
    }
   ],
   "source": [
    "m_matched, f_matched = DA.call_match(m_prefs, f_prefs)\n",
    "DA.check_results(m_matched, f_matched)"
   ]
  },
  {
   "cell_type": "markdown",
   "metadata": {},
   "source": [
    "DAアルゴリズムを走らせて結果を得ました. 結果も問題ないようです."
   ]
  },
  {
   "cell_type": "code",
   "execution_count": 25,
   "metadata": {
    "collapsed": false
   },
   "outputs": [
    {
     "data": {
      "text/plain": [
       "true"
      ]
     },
     "execution_count": 25,
     "metadata": {},
     "output_type": "execute_result"
    }
   ],
   "source": [
    "DA.stable_matching(m_matched, f_matched, m_prefs, f_prefs)"
   ]
  },
  {
   "cell_type": "markdown",
   "metadata": {},
   "source": [
    "きちんと安定マッチングになっています. もちろん次のマッチングは安定ではないので,"
   ]
  },
  {
   "cell_type": "code",
   "execution_count": 27,
   "metadata": {
    "collapsed": false
   },
   "outputs": [
    {
     "data": {
      "text/plain": [
       "false"
      ]
     },
     "execution_count": 27,
     "metadata": {},
     "output_type": "execute_result"
    }
   ],
   "source": [
    "DA.stable_matching([1 2], [1 2], [2 1; 1 2; 0 0], [2 1; 1 2; 0 0])"
   ]
  },
  {
   "cell_type": "code",
   "execution_count": 16,
   "metadata": {
    "collapsed": false,
    "scrolled": false
   },
   "outputs": [
    {
     "data": {
      "text/plain": [
       "1x100 Array{Int64,2}:\n",
       " 90  21  31  20  38  73  96  22  27  61  …  80  44  62  7  9  69  33  66  41"
      ]
     },
     "execution_count": 16,
     "metadata": {},
     "output_type": "execute_result"
    }
   ],
   "source": [
    "transpose(m_matched)"
   ]
  },
  {
   "cell_type": "code",
   "execution_count": 17,
   "metadata": {
    "collapsed": false
   },
   "outputs": [
    {
     "data": {
      "text/plain": [
       "1x100 Array{Int64,2}:\n",
       " 63  67  0  23  90  21  6  86  5  32  …  13  0  24  83  94  48  17  79  34"
      ]
     },
     "execution_count": 17,
     "metadata": {},
     "output_type": "execute_result"
    }
   ],
   "source": [
    "transpose(f_matched)"
   ]
  },
  {
   "cell_type": "markdown",
   "metadata": {},
   "source": [
    "次にスピードを計測します. m,nと繰り返し回数, 再帰かどうかを引数に取る関数をとりあえず作りました. "
   ]
  },
  {
   "cell_type": "code",
   "execution_count": 6,
   "metadata": {
    "collapsed": false
   },
   "outputs": [
    {
     "data": {
      "text/plain": [
       "speedtest1 (generic function with 1 method)"
      ]
     },
     "execution_count": 6,
     "metadata": {},
     "output_type": "execute_result"
    }
   ],
   "source": [
    "function speedtest1(m, n, l, rec)\n",
    "    m_prefs, f_prefs = DA.generate_random_preference_data(m, n)\n",
    "    for i in 1:l\n",
    "        DA.call_match(m_prefs, f_prefs, rec)\n",
    "    end\n",
    "end"
   ]
  },
  {
   "cell_type": "markdown",
   "metadata": {},
   "source": [
    "以下の結果を得ました.再帰かそうでないかではコードの一部しか変わっていないのですが, かなり速度差が出ているようです.\n",
    "\n",
    "当然のことながらメモリ割り当ても再帰のほうが多く, それぞれ１０倍近いようです.\n",
    "```\n",
    "@time speedtest1(10, 10, 1000, true) # => 0.311742 seconds (1.41 M allocations: 89.571 MB, 9.54% gc time)\n",
    "@time speedtest1(10, 10, 1000, false) # =>  0.051650 seconds (228.50 k allocations: 19.520 MB, 7.10% gc time)\n",
    "@time speedtest1(100, 100, 100, true) # =>  5.819466 seconds (20.06 M allocations: 1.587 GB, 4.37% gc time)\n",
    "@time speedtest1(100, 100, 100, false) # =>  0.166037 seconds (216.80 k allocations: 74.657 MB, 8.77% gc time)\n",
    "```"
   ]
  },
  {
   "cell_type": "markdown",
   "metadata": {},
   "source": [
    "次にProfileでどこが遅いかを見てみます. まずは再帰を使わない時から.\n",
    "```\n",
    "@profile test1(100, 100, 100, false)\n",
    "Profile.print()\n",
    "```"
   ]
  },
  {
   "cell_type": "markdown",
   "metadata": {
    "collapsed": true
   },
   "source": [
    "```\n",
    "244 task.jl; anonymous; line: 447\n",
    " 244 .../IJulia/src/IJulia.jl; eventloop; line: 143\n",
    "  244 ...rc/execute_request.jl; execute_request_0x535c5df2; line: 183\n",
    "   244 loading.jl; include_string; line: 282\n",
    "    244 profile.jl; anonymous; line: 16\n",
    "     167 In[167]; test1; line: 3\n",
    "      2  ...zemi/DA_alg.jl/da.jl; generate_random_preference_data; line: 37\n",
    "      92 ...zemi/DA_alg.jl/da.jl; generate_random_preference_data; line: 39\n",
    "       7  ...lib/julia/sys.dylib; vcat; (unknown line)\n",
    "       10 array.jl; copy; line: 100\n",
    "       3  multidimensional.jl; _unsafe_batchsetindex!; line: 328\n",
    "       1  multidimensional.jl; _unsafe_batchsetindex!; line: 329\n",
    "       1  random.jl; call; line: 475\n",
    "       66 random.jl; shuffle!; line: 1330\n",
    "        4  random.jl; call; line: 471\n",
    "        14 random.jl; call; line: 475\n",
    "         14 random.jl; maxmultiplemix; line: 445\n",
    "        10 random.jl; rand; line: 514\n",
    "        1  random.jl; rand; line: 515\n",
    "        12 random.jl; rand; line: 516\n",
    "         7 random.jl; gen_rand; line: 88\n",
    "          7 dSFMT.jl; dsfmt_fill_array_close1_open2!; line: 67\n",
    "        1  random.jl; rand; line: 518\n",
    "        20 random.jl; rand; line: 526\n",
    "       1  random.jl; shuffle!; line: 1333\n",
    "      72 ...zemi/DA_alg.jl/da.jl; generate_random_preference_data; line: 42\n",
    "       6  ...lib/julia/sys.dylib; vcat; (unknown line)\n",
    "       3  cartesian.jl; _unsafe_batchsetindex!; line: 34\n",
    "       4  multidimensional.jl; _unsafe_batchsetindex!; line: 328\n",
    "       1  random.jl; call; line: 475\n",
    "       55 random.jl; shuffle!; line: 1330\n",
    "        3  random.jl; call; line: 471\n",
    "        16 random.jl; call; line: 475\n",
    "         16 random.jl; maxmultiplemix; line: 445\n",
    "        6  random.jl; rand; line: 514\n",
    "        6  random.jl; rand; line: 516\n",
    "         2 random.jl; gen_rand; line: 88\n",
    "          2 dSFMT.jl; dsfmt_fill_array_close1_open2!; line: 67\n",
    "        1  random.jl; rand; line: 518\n",
    "        1  random.jl; rand; line: 523\n",
    "        17 random.jl; rand; line: 526\n",
    "       3  random.jl; shuffle!; line: 1331\n",
    "     77  In[167]; test1; line: 4\n",
    "      6  ...zemi/DA_alg.jl/da.jl; call_match; line: 51\n",
    "       1 array.jl; findnext; line: 717\n",
    "       2 multidimensional.jl; _unsafe_getindex; line: 193\n",
    "       3 multidimensional.jl; _unsafe_getindex; line: 195\n",
    "      70 ...zemi/DA_alg.jl/da.jl; call_match; line: 57\n",
    "       70 ...emi/DA_alg.jl/da.jl; da_match; line: 143\n",
    "        70 ...emi/DA_alg.jl/da.jl; decide_to_accept!; line: 111\n",
    "         46 ...emi/DA_alg.jl/da.jl; get_best_male_pointers!; line: 100\n",
    "          1  array.jl; findin; line: 889\n",
    "          28 array.jl; findin; line: 890\n",
    "           25 ...lib/julia/sys.dylib; zeros; (unknown line)\n",
    "            3 ...lib/julia/sys.dylib; call; (unknown line)\n",
    "          17 array.jl; findin; line: 892\n",
    "           14 ...lib/julia/sys.dylib; ht_keyindex; (unknown line)\n",
    "            3 ...lib/julia/sys.dylib; hash_64_64; (unknown line)\n",
    "         24 ...emi/DA_alg.jl/da.jl; get_best_male_pointers!; line: 102\n",
    "          11 abstractarray.jl; map; line: 1305\n",
    "           11 ...mi/DA_alg.jl/da.jl; anonymous; line: 102\n",
    "            6 abstractarray.jl; getindex; line: 488\n",
    "             5 multidimensional.jl; _unsafe_getindex; line: 193\n",
    "          4  abstractarray.jl; map; line: 1306\n",
    "           3 ...lib/julia/sys.dylib; call; (unknown line)\n",
    "          1  abstractarray.jl; map; line: 1307\n",
    "          6  abstractarray.jl; map; line: 1308\n",
    "           1 abstractarray.jl; map_to!; line: 1286\n",
    "            1 ...mi/DA_alg.jl/da.jl; anonymous; line: 102\n",
    "      1  ...zemi/DA_alg.jl/da.jl; call_match; line: 58\n",
    "       1 ...zemi/DA_alg.jl/da.jl; convert_pointer_to_list; line: 71\n",
    "        1 array.jl; findnext; line: 717\n",
    "```"
   ]
  },
  {
   "cell_type": "markdown",
   "metadata": {
    "collapsed": false
   },
   "source": [
    "再帰を使うと...\n",
    "```\n",
    "@profile test1(100, 100, 100, true)\n",
    "Profile.print()\n",
    "```"
   ]
  },
  {
   "cell_type": "markdown",
   "metadata": {
    "collapsed": true
   },
   "source": [
    "```\n",
    "4    ...a/lib/julia/sys.dylib; ht_keyindex; (unknown line)\n",
    "4    abstractarray.jl; map; line: 1306\n",
    "3    array.jl; findin; line: 890\n",
    "1    array.jl; findnext; line: 715\n",
    "1    multidimensional.jl; checksize; line: 270\n",
    "1    random.jl; maxmultiplemix; line: 445\n",
    "4887 task.jl; anonymous; line: 447\n",
    " 4887 .../IJulia/src/IJulia.jl; eventloop; line: 143\n",
    "  4887 ...rc/execute_request.jl; execute_request_0x535c5df2; line: 183\n",
    "   4887 loading.jl; include_string; line: 282\n",
    "    4887 profile.jl; anonymous; line: 16\n",
    "     237  In[167]; test1; line: 3\n",
    "      2   ...zemi/DA_alg.jl/da.jl; generate_random_preference_data; line: 37\n",
    "      126 ...zemi/DA_alg.jl/da.jl; generate_random_preference_data; line: 39\n",
    "       7  ...lib/julia/sys.dylib; vcat; (unknown line)\n",
    "       10 array.jl; copy; line: 100\n",
    "       3  multidimensional.jl; _unsafe_batchsetindex!; line: 328\n",
    "       1  multidimensional.jl; _unsafe_batchsetindex!; line: 329\n",
    "       1  random.jl; call; line: 475\n",
    "       92 random.jl; shuffle!; line: 1330\n",
    "        7  random.jl; call; line: 471\n",
    "        22 random.jl; call; line: 475\n",
    "         21 random.jl; maxmultiplemix; line: 445\n",
    "        14 random.jl; rand; line: 514\n",
    "        1  random.jl; rand; line: 515\n",
    "        15 random.jl; rand; line: 516\n",
    "         9 random.jl; gen_rand; line: 88\n",
    "          9 dSFMT.jl; dsfmt_fill_array_close1_open2!; line: 67\n",
    "        1  random.jl; rand; line: 518\n",
    "        25 random.jl; rand; line: 526\n",
    "       5  random.jl; shuffle!; line: 1331\n",
    "       1  random.jl; shuffle!; line: 1333\n",
    "      108 ...zemi/DA_alg.jl/da.jl; generate_random_preference_data; line: 42\n",
    "       7  ...lib/julia/sys.dylib; vcat; (unknown line)\n",
    "       3  array.jl; copy; line: 100\n",
    "       3  cartesian.jl; _unsafe_batchsetindex!; line: 34\n",
    "       5  multidimensional.jl; _unsafe_batchsetindex!; line: 328\n",
    "       1  multidimensional.jl; _unsafe_batchsetindex!; line: 329\n",
    "       1  random.jl; call; line: 475\n",
    "       81 random.jl; shuffle!; line: 1330\n",
    "        3  random.jl; call; line: 471\n",
    "        22 random.jl; call; line: 475\n",
    "         22 random.jl; maxmultiplemix; line: 445\n",
    "        12 random.jl; rand; line: 514\n",
    "        9  random.jl; rand; line: 516\n",
    "         4 random.jl; gen_rand; line: 88\n",
    "          4 dSFMT.jl; dsfmt_fill_array_close1_open2!; line: 67\n",
    "        1  random.jl; rand; line: 518\n",
    "        1  random.jl; rand; line: 523\n",
    "        25 random.jl; rand; line: 526\n",
    "       7  random.jl; shuffle!; line: 1331\n",
    "     4650 In[167]; test1; line: 4\n",
    "      7    ...emi/DA_alg.jl/da.jl; call_match; line: 51\n",
    "       1 array.jl; findnext; line: 717\n",
    "       3 multidimensional.jl; _unsafe_getindex; line: 193\n",
    "       3 multidimensional.jl; _unsafe_getindex; line: 195\n",
    "      1    ...emi/DA_alg.jl/da.jl; call_match; line: 53\n",
    "       1 ...a/lib/julia/sys.dylib; call; (unknown line)\n",
    "        1 .../lib/julia/sys.dylib; call; (unknown line)\n",
    "      4641 ...emi/DA_alg.jl/da.jl; call_match; line: 57\n",
    "       70   ...emi/DA_alg.jl/da.jl; da_match; line: 143\n",
    "        70 ...emi/DA_alg.jl/da.jl; decide_to_accept!; line: 111\n",
    "         46 ...emi/DA_alg.jl/da.jl; get_best_male_pointers!; line: 100\n",
    "          1  array.jl; findin; line: 889\n",
    "          28 array.jl; findin; line: 890\n",
    "           25 ...lib/julia/sys.dylib; zeros; (unknown line)\n",
    "            3 ...lib/julia/sys.dylib; call; (unknown line)\n",
    "          17 array.jl; findin; line: 892\n",
    "           14 ...lib/julia/sys.dylib; ht_keyindex; (unknown line)\n",
    "            3 ...lib/julia/sys.dylib; hash_64_64; (unknown line)\n",
    "         24 ...emi/DA_alg.jl/da.jl; get_best_male_pointers!; line: 102\n",
    "          11 abstractarray.jl; map; line: 1305\n",
    "           11 ...mi/DA_alg.jl/da.jl; anonymous; line: 102\n",
    "            6 abstractarray.jl; getindex; line: 488\n",
    "             5 multidimensional.jl; _unsafe_getindex; line: 193\n",
    "          4  abstractarray.jl; map; line: 1306\n",
    "           3 ...lib/julia/sys.dylib; call; (unknown line)\n",
    "          1  abstractarray.jl; map; line: 1307\n",
    "          6  abstractarray.jl; map; line: 1308\n",
    "           1 abstractarray.jl; map_to!; line: 1286\n",
    "            1 ...mi/DA_alg.jl/da.jl; anonymous; line: 102\n",
    "       38   ...emi/DA_alg.jl/da.jl; recursive_da_match; line: 128\n",
    "        38 ...emi/DA_alg.jl/da.jl; decide_to_accept!; line: 111\n",
    "         25 ...emi/DA_alg.jl/da.jl; get_best_male_pointers!; line: 100\n",
    "          18 array.jl; findin; line: 890\n",
    "           17 ...lib/julia/sys.dylib; zeros; (unknown line)\n",
    "            1 ...lib/julia/sys.dylib; call; (unknown line)\n",
    "          7  array.jl; findin; line: 892\n",
    "           5 ...lib/julia/sys.dylib; ht_keyindex; (unknown line)\n",
    "            1 ...lib/julia/sys.dylib; hash_64_64; (unknown line)\n",
    "         13 ...emi/DA_alg.jl/da.jl; get_best_male_pointers!; line: 102\n",
    "          9 abstractarray.jl; map; line: 1305\n",
    "           9 ...mi/DA_alg.jl/da.jl; anonymous; line: 102\n",
    "            6 abstractarray.jl; getindex; line: 488\n",
    "             4 multidimensional.jl; _unsafe_getindex; line: 193\n",
    "             1 multidimensional.jl; _unsafe_getindex; line: 194\n",
    "              1 multidimensional.jl; checksize; line: 270\n",
    "             1 multidimensional.jl; _unsafe_getindex; line: 195\n",
    "            1 array.jl; findfirst; line: 722\n",
    "             1 array.jl; findnext; line: 716\n",
    "          1 abstractarray.jl; map; line: 1306\n",
    "           1 ...lib/julia/sys.dylib; call; (unknown line)\n",
    "          2 abstractarray.jl; map; line: 1307\n",
    "          1 abstractarray.jl; map; line: 1308\n",
    "       4533 ...emi/DA_alg.jl/da.jl; recursive_da_match; line: 133\n",
    "(以下長いので略)\n",
    "```"
   ]
  },
  {
   "cell_type": "markdown",
   "metadata": {
    "collapsed": true
   },
   "source": [
    "再帰を使うところで激遅になっている事がわかります. "
   ]
  },
  {
   "cell_type": "markdown",
   "metadata": {},
   "source": [
    "------"
   ]
  },
  {
   "cell_type": "markdown",
   "metadata": {},
   "source": [
    "この後速度を早くするためにアルゴリズムを調整しました.　map関数を書き換えたり...\n",
    "\n",
    "結果がこちらです."
   ]
  },
  {
   "cell_type": "code",
   "execution_count": 47,
   "metadata": {
    "collapsed": false
   },
   "outputs": [
    {
     "name": "stdout",
     "output_type": "stream",
     "text": [
      "  0.015843 seconds (87.82 k allocations: 6.862 MB)\n",
      "  0.012841 seconds (99.07 k allocations: 7.699 MB, 31.03% gc time)\n",
      "  0.069083 seconds (179.01 k allocations: 73.897 MB, 17.47% gc time)\n",
      "  0.098331 seconds (250.71 k allocations: 103.273 MB, 22.30% gc time)\n"
     ]
    }
   ],
   "source": [
    "@time speedtest1(10, 10, 1000, true)\n",
    "@time speedtest1(10, 10, 1000, false)\n",
    "@time speedtest1(100, 100, 100, true)\n",
    "@time speedtest1(100, 100, 100, false)"
   ]
  },
  {
   "cell_type": "markdown",
   "metadata": {},
   "source": [
    "参考までに,先ほどの結果は\n",
    "```\n",
    "@time speedtest1(10, 10, 1000, true) # => 0.311742 seconds (1.41 M allocations: 89.571 MB, 9.54% gc time)\n",
    "@time speedtest1(10, 10, 1000, false) # =>  0.051650 seconds (228.50 k allocations: 19.520 MB, 7.10% gc time)\n",
    "@time speedtest1(100, 100, 100, true) # =>  5.819466 seconds (20.06 M allocations: 1.587 GB, 4.37% gc time)\n",
    "@time speedtest1(100, 100, 100, false) # =>  0.166037 seconds (216.80 k allocations: 74.657 MB, 8.77% gc time)\n",
    "```"
   ]
  },
  {
   "cell_type": "markdown",
   "metadata": {},
   "source": [
    "再帰に関して速度が20~80倍ほど早くなってしまいました. 普通のアルゴリズムでも2倍の速度が出ています.\n",
    "\n",
    "さらに再帰なし版について測ってみます."
   ]
  },
  {
   "cell_type": "code",
   "execution_count": 55,
   "metadata": {
    "collapsed": false
   },
   "outputs": [
    {
     "name": "stdout",
     "output_type": "stream",
     "text": [
      "  0.011899 seconds (103.06 k allocations: 8.035 MB)\n",
      "  0.083926 seconds (182.12 k allocations: 20.961 MB, 39.56% gc time)\n",
      "  0.113720 seconds (418.18 k allocations: 66.339 MB, 16.08% gc time)\n",
      "  0.103693 seconds (538.24 k allocations: 111.943 MB, 26.02% gc time)\n",
      "  0.128383 seconds (620.30 k allocations: 159.249 MB, 32.59% gc time)\n",
      "  0.325656 seconds (1.19 M allocations: 306.161 MB, 23.99% gc time)\n",
      "  0.671633 seconds (2.13 M allocations: 654.740 MB, 27.45% gc time)\n",
      "  0.902362 seconds (1.79 M allocations: 596.322 MB, 30.71% gc time)\n",
      "  0.801129 seconds (1.78 M allocations: 673.842 MB, 30.50% gc time)\n",
      "  0.710953 seconds (2.20 M allocations: 925.490 MB, 21.54% gc time)\n",
      "  0.825715 seconds (1.82 M allocations: 844.977 MB, 30.03% gc time)\n",
      "  1.343493 seconds (2.82 M allocations: 1.380 GB, 31.91% gc time)\n",
      "  2.250089 seconds (3.85 M allocations: 1.945 GB, 27.91% gc time)\n",
      "  1.230811 seconds (2.76 M allocations: 1.546 GB, 33.10% gc time)\n",
      "  2.367770 seconds (4.81 M allocations: 2.835 GB, 29.05% gc time)\n",
      "  2.088936 seconds (4.37 M allocations: 2.635 GB, 30.92% gc time)\n",
      "  2.039183 seconds (4.00 M allocations: 2.630 GB, 31.90% gc time)\n",
      "  3.186127 seconds (5.55 M allocations: 4.038 GB, 33.19% gc time)\n",
      "  4.275009 seconds (6.60 M allocations: 4.794 GB, 31.94% gc time)\n",
      "  4.211150 seconds (6.72 M allocations: 5.401 GB, 33.72% gc time)\n",
      "  4.242559 seconds (5.98 M allocations: 4.833 GB, 33.34% gc time)\n",
      "  5.284978 seconds (7.21 M allocations: 6.542 GB, 34.47% gc time)\n",
      "  5.283381 seconds (6.67 M allocations: 6.170 GB, 35.90% gc time)\n",
      "  7.405871 seconds (10.34 M allocations: 9.225 GB, 31.24% gc time)\n",
      "  6.292878 seconds (8.67 M allocations: 8.140 GB, 27.91% gc time)\n",
      "  9.541288 seconds (12.81 M allocations: 12.578 GB, 28.33% gc time)\n",
      "  8.344608 seconds (9.87 M allocations: 10.008 GB, 26.33% gc time)\n",
      "  6.565481 seconds (8.74 M allocations: 9.239 GB, 27.38% gc time)\n",
      "  8.904874 seconds (11.61 M allocations: 12.770 GB, 27.77% gc time)\n",
      "  9.573885 seconds (11.42 M allocations: 12.707 GB, 25.14% gc time)\n",
      " 10.647101 seconds (12.04 M allocations: 14.096 GB, 27.95% gc time)\n",
      " 12.162440 seconds (13.48 M allocations: 16.327 GB, 27.73% gc time)\n",
      " 11.021183 seconds (11.44 M allocations: 13.809 GB, 23.92% gc time)\n",
      " 16.251917 seconds (17.36 M allocations: 22.070 GB, 26.10% gc time)\n",
      " 15.830296 seconds (14.39 M allocations: 18.789 GB, 23.84% gc time)\n",
      " 13.560879 seconds (12.61 M allocations: 16.999 GB, 24.38% gc time)\n",
      " 18.137202 seconds (17.44 M allocations: 23.547 GB, 22.36% gc time)\n",
      " 16.665950 seconds (15.73 M allocations: 21.845 GB, 23.12% gc time)\n",
      " 17.161361 seconds (16.75 M allocations: 24.060 GB, 23.38% gc time)\n",
      " 22.162160 seconds (20.61 M allocations: 30.251 GB, 22.94% gc time)\n"
     ]
    }
   ],
   "source": [
    "for i in 1:40\n",
    "    @time speedtest1(10*i, 10*i, 1000, false)\n",
    "end"
   ]
  },
  {
   "cell_type": "code",
   "execution_count": 124,
   "metadata": {
    "collapsed": false
   },
   "outputs": [
    {
     "data": {
      "text/plain": [
       "get_seconds (generic function with 1 method)"
      ]
     },
     "execution_count": 124,
     "metadata": {},
     "output_type": "execute_result"
    }
   ],
   "source": [
    "k1 = \"0.011899 seconds (103.06 k allocations: 8.035 MB, 00.00% gc time)\n",
    "  0.083926 seconds (182.12 k allocations: 20.961 MB, 39.56% gc time)\n",
    "  0.113720 seconds (418.18 k allocations: 66.339 MB, 16.08% gc time)\n",
    "  0.103693 seconds (538.24 k allocations: 111.943 MB, 26.02% gc time)\n",
    "  0.128383 seconds (620.30 k allocations: 159.249 MB, 32.59% gc time)\n",
    "  0.325656 seconds (1.19 M allocations: 306.161 MB, 23.99% gc time)\n",
    "  0.671633 seconds (2.13 M allocations: 654.740 MB, 27.45% gc time)\n",
    "  0.902362 seconds (1.79 M allocations: 596.322 MB, 30.71% gc time)\n",
    "  0.801129 seconds (1.78 M allocations: 673.842 MB, 30.50% gc time)\n",
    "  0.710953 seconds (2.20 M allocations: 925.490 MB, 21.54% gc time)\n",
    "  0.825715 seconds (1.82 M allocations: 844.977 MB, 30.03% gc time)\n",
    "  1.343493 seconds (2.82 M allocations: 1.380 GB, 31.91% gc time)\n",
    "  2.250089 seconds (3.85 M allocations: 1.945 GB, 27.91% gc time)\n",
    "  1.230811 seconds (2.76 M allocations: 1.546 GB, 33.10% gc time)\n",
    "  2.367770 seconds (4.81 M allocations: 2.835 GB, 29.05% gc time)\n",
    "  2.088936 seconds (4.37 M allocations: 2.635 GB, 30.92% gc time)\n",
    "  2.039183 seconds (4.00 M allocations: 2.630 GB, 31.90% gc time)\n",
    "  3.186127 seconds (5.55 M allocations: 4.038 GB, 33.19% gc time)\n",
    "  4.275009 seconds (6.60 M allocations: 4.794 GB, 31.94% gc time)\n",
    "  4.211150 seconds (6.72 M allocations: 5.401 GB, 33.72% gc time)\n",
    "  4.242559 seconds (5.98 M allocations: 4.833 GB, 33.34% gc time)\n",
    "  5.284978 seconds (7.21 M allocations: 6.542 GB, 34.47% gc time)\n",
    "  5.283381 seconds (6.67 M allocations: 6.170 GB, 35.90% gc time)\n",
    "  7.405871 seconds (10.34 M allocations: 9.225 GB, 31.24% gc time)\n",
    "  6.292878 seconds (8.67 M allocations: 8.140 GB, 27.91% gc time)\n",
    "  9.541288 seconds (12.81 M allocations: 12.578 GB, 28.33% gc time)\n",
    "  8.344608 seconds (9.87 M allocations: 10.008 GB, 26.33% gc time)\n",
    "  6.565481 seconds (8.74 M allocations: 9.239 GB, 27.38% gc time)\n",
    "  8.904874 seconds (11.61 M allocations: 12.770 GB, 27.77% gc time)\n",
    "  9.573885 seconds (11.42 M allocations: 12.707 GB, 25.14% gc time)\n",
    " 10.647101 seconds (12.04 M allocations: 14.096 GB, 27.95% gc time)\n",
    " 12.162440 seconds (13.48 M allocations: 16.327 GB, 27.73% gc time)\n",
    " 11.021183 seconds (11.44 M allocations: 13.809 GB, 23.92% gc time)\n",
    " 16.251917 seconds (17.36 M allocations: 22.070 GB, 26.10% gc time)\n",
    " 15.830296 seconds (14.39 M allocations: 18.789 GB, 23.84% gc time)\n",
    " 13.560879 seconds (12.61 M allocations: 16.999 GB, 24.38% gc time)\n",
    " 18.137202 seconds (17.44 M allocations: 23.547 GB, 22.36% gc time)\n",
    " 16.665950 seconds (15.73 M allocations: 21.845 GB, 23.12% gc time)\n",
    " 17.161361 seconds (16.75 M allocations: 24.060 GB, 23.38% gc time)\n",
    " 22.162160 seconds (20.61 M allocations: 30.251 GB, 22.94% gc time)\"\n",
    "\n",
    "function get_seconds(s::AbstractString)\n",
    "    return matchall(r\"\\d+\\.\\d{6}\", s)\n",
    "end"
   ]
  },
  {
   "cell_type": "markdown",
   "metadata": {},
   "source": [
    "得たデータをプロットしてみます."
   ]
  },
  {
   "cell_type": "code",
   "execution_count": 125,
   "metadata": {
    "collapsed": false
   },
   "outputs": [
    {
     "data": {
      "image/png": "[encoded data removed]",
      "text/plain": [
       "PyPlot.Figure(PyObject <matplotlib.figure.Figure object at 0x31b453dd8>)"
      ]
     },
     "metadata": {},
     "output_type": "display_data"
    },
    {
     "data": {
      "text/plain": [
       "1-element Array{Any,1}:\n",
       " PyObject <matplotlib.lines.Line2D object at 0x3138313c8>"
      ]
     },
     "execution_count": 125,
     "metadata": {},
     "output_type": "execute_result"
    }
   ],
   "source": [
    "using PyPlot\n",
    "\n",
    "plot(get_seconds(k1))"
   ]
  },
  {
   "cell_type": "markdown",
   "metadata": {},
   "source": [
    "たまたまの可能性がありますがDAアルゴリズムの計算量$n^2$を表してるように見えなくもない(?). "
   ]
  },
  {
   "cell_type": "code",
   "execution_count": 126,
   "metadata": {
    "collapsed": false
   },
   "outputs": [
    {
     "name": "stdout",
     "output_type": "stream",
     "text": [
      "  0.001232 seconds (16.01 k allocations: 844.313 KB)\n",
      "  0.001386 seconds (27.02 k allocations: 1.329 MB)\n",
      "  0.008722 seconds (22.03 k allocations: 1.268 MB, 86.22% gc time)\n",
      "  0.001670 seconds (29.03 k allocations: 1.727 MB)\n",
      "  0.002497 seconds (47.03 k allocations: 2.826 MB)\n",
      "  0.002255 seconds (40.04 k allocations: 2.644 MB)\n",
      "  0.005837 seconds (67.05 k allocations: 4.430 MB)\n",
      "  0.003987 seconds (55.05 k allocations: 4.019 MB)\n",
      "  0.004125 seconds (72.06 k allocations: 5.348 MB)\n",
      "  0.009130 seconds (95.06 k allocations: 7.363 MB, 31.07% gc time)\n",
      "  0.010953 seconds (136.07 k allocations: 10.279 MB)\n",
      "  0.013867 seconds (99.08 k allocations: 8.236 MB, 31.58% gc time)\n",
      "  0.011239 seconds (102.08 k allocations: 8.985 MB)\n",
      "  0.016078 seconds (134.09 k allocations: 12.801 MB, 23.05% gc time)\n",
      "  0.024595 seconds (172.09 k allocations: 16.160 MB)\n",
      "  0.042064 seconds (213.10 k allocations: 21.212 MB, 37.95% gc time)\n",
      "  0.033504 seconds (180.10 k allocations: 18.421 MB, 17.29% gc time)\n",
      "  0.034329 seconds (213.11 k allocations: 22.513 MB, 18.30% gc time)\n",
      "  0.021761 seconds (186.12 k allocations: 19.021 MB, 24.86% gc time)\n",
      "  0.025700 seconds (210.12 k allocations: 23.738 MB, 21.16% gc time)\n",
      "  0.033920 seconds (277.13 k allocations: 32.331 MB, 31.64% gc time)\n",
      "  0.056235 seconds (379.13 k allocations: 45.410 MB, 24.10% gc time)\n",
      "  0.027112 seconds (229.14 k allocations: 27.422 MB, 20.24% gc time)\n",
      "  0.053693 seconds (386.15 k allocations: 61.107 MB, 29.36% gc time)\n",
      "  0.043951 seconds (277.15 k allocations: 43.424 MB, 28.61% gc time)\n",
      "  0.033647 seconds (235.16 k allocations: 36.682 MB, 17.09% gc time)\n",
      "  0.164228 seconds (418.17 k allocations: 65.417 MB, 17.07% gc time)\n",
      "  0.118690 seconds (369.17 k allocations: 58.568 MB, 33.72% gc time)\n",
      "  0.083083 seconds (427.18 k allocations: 67.695 MB, 24.85% gc time)\n",
      "  0.093146 seconds (496.18 k allocations: 74.853 MB, 24.65% gc time)\n",
      "  0.080496 seconds (279.19 k allocations: 44.994 MB, 29.43% gc time)\n",
      "  0.131848 seconds (414.19 k allocations: 75.323 MB, 21.68% gc time)\n",
      "  0.121672 seconds (493.20 k allocations: 89.715 MB, 28.97% gc time)\n",
      "  0.090460 seconds (451.21 k allocations: 82.485 MB, 26.21% gc time)\n",
      "  0.116191 seconds (621.21 k allocations: 113.280 MB, 25.54% gc time)\n",
      "  0.133970 seconds (619.22 k allocations: 115.083 MB, 28.09% gc time)\n",
      "  0.128574 seconds (610.23 k allocations: 114.216 MB, 29.64% gc time)\n",
      "  0.131007 seconds (652.23 k allocations: 119.987 MB, 24.16% gc time)\n",
      "  0.123505 seconds (580.24 k allocations: 109.369 MB, 30.23% gc time)\n",
      "  0.146922 seconds (686.24 k allocations: 143.040 MB, 28.83% gc time)\n"
     ]
    }
   ],
   "source": [
    "for i in 1:40\n",
    "    @time speedtest1(1*i, 1*i, 1000, false)\n",
    "end"
   ]
  },
  {
   "cell_type": "code",
   "execution_count": 127,
   "metadata": {
    "collapsed": false
   },
   "outputs": [
    {
     "data": {
      "image/png": "[encoded data removed]",
      "text/plain": [
       "PyPlot.Figure(PyObject <matplotlib.figure.Figure object at 0x313a8b828>)"
      ]
     },
     "metadata": {},
     "output_type": "display_data"
    }
   ],
   "source": [
    "k2 = \"0.001232 seconds (16.01 k allocations: 844.313 KB)\n",
    "  0.001386 seconds (27.02 k allocations: 1.329 MB)\n",
    "  0.008722 seconds (22.03 k allocations: 1.268 MB, 86.22% gc time)\n",
    "  0.001670 seconds (29.03 k allocations: 1.727 MB)\n",
    "  0.002497 seconds (47.03 k allocations: 2.826 MB)\n",
    "  0.002255 seconds (40.04 k allocations: 2.644 MB)\n",
    "  0.005837 seconds (67.05 k allocations: 4.430 MB)\n",
    "  0.003987 seconds (55.05 k allocations: 4.019 MB)\n",
    "  0.004125 seconds (72.06 k allocations: 5.348 MB)\n",
    "  0.009130 seconds (95.06 k allocations: 7.363 MB, 31.07% gc time)\n",
    "  0.010953 seconds (136.07 k allocations: 10.279 MB)\n",
    "  0.013867 seconds (99.08 k allocations: 8.236 MB, 31.58% gc time)\n",
    "  0.011239 seconds (102.08 k allocations: 8.985 MB)\n",
    "  0.016078 seconds (134.09 k allocations: 12.801 MB, 23.05% gc time)\n",
    "  0.024595 seconds (172.09 k allocations: 16.160 MB)\n",
    "  0.042064 seconds (213.10 k allocations: 21.212 MB, 37.95% gc time)\n",
    "  0.033504 seconds (180.10 k allocations: 18.421 MB, 17.29% gc time)\n",
    "  0.034329 seconds (213.11 k allocations: 22.513 MB, 18.30% gc time)\n",
    "  0.021761 seconds (186.12 k allocations: 19.021 MB, 24.86% gc time)\n",
    "  0.025700 seconds (210.12 k allocations: 23.738 MB, 21.16% gc time)\n",
    "  0.033920 seconds (277.13 k allocations: 32.331 MB, 31.64% gc time)\n",
    "  0.056235 seconds (379.13 k allocations: 45.410 MB, 24.10% gc time)\n",
    "  0.027112 seconds (229.14 k allocations: 27.422 MB, 20.24% gc time)\n",
    "  0.053693 seconds (386.15 k allocations: 61.107 MB, 29.36% gc time)\n",
    "  0.043951 seconds (277.15 k allocations: 43.424 MB, 28.61% gc time)\n",
    "  0.033647 seconds (235.16 k allocations: 36.682 MB, 17.09% gc time)\n",
    "  0.164228 seconds (418.17 k allocations: 65.417 MB, 17.07% gc time)\n",
    "  0.118690 seconds (369.17 k allocations: 58.568 MB, 33.72% gc time)\n",
    "  0.083083 seconds (427.18 k allocations: 67.695 MB, 24.85% gc time)\n",
    "  0.093146 seconds (496.18 k allocations: 74.853 MB, 24.65% gc time)\n",
    "  0.080496 seconds (279.19 k allocations: 44.994 MB, 29.43% gc time)\n",
    "  0.131848 seconds (414.19 k allocations: 75.323 MB, 21.68% gc time)\n",
    "  0.121672 seconds (493.20 k allocations: 89.715 MB, 28.97% gc time)\n",
    "  0.090460 seconds (451.21 k allocations: 82.485 MB, 26.21% gc time)\n",
    "  0.116191 seconds (621.21 k allocations: 113.280 MB, 25.54% gc time)\n",
    "  0.133970 seconds (619.22 k allocations: 115.083 MB, 28.09% gc time)\n",
    "  0.128574 seconds (610.23 k allocations: 114.216 MB, 29.64% gc time)\n",
    "  0.131007 seconds (652.23 k allocations: 119.987 MB, 24.16% gc time)\n",
    "  0.123505 seconds (580.24 k allocations: 109.369 MB, 30.23% gc time)\n",
    "  0.146922 seconds (686.24 k allocations: 143.040 MB, 28.83% gc time)\"\n",
    "\n",
    "plot(get_seconds(k2))\n",
    "plot(get_seconds(k1))\n",
    "legend()"
   ]
  },
  {
   "cell_type": "code",
   "execution_count": null,
   "metadata": {
    "collapsed": true
   },
   "outputs": [],
   "source": []
  }
 ],
 "metadata": {
  "kernelspec": {
   "display_name": "Julia 0.4.5",
   "language": "julia",
   "name": "julia-0.4"
  },
  "language_info": {
   "file_extension": ".jl",
   "mimetype": "application/julia",
   "name": "julia",
   "version": "0.4.5"
  }
 },
 "nbformat": 4,
 "nbformat_minor": 0
}
