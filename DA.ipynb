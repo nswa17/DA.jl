{
 "cells": [
  {
   "cell_type": "markdown",
   "metadata": {},
   "source": [
    "# DA Algorithm\n",
    "### 中田 竜明"
   ]
  },
  {
   "cell_type": "code",
   "execution_count": 128,
   "metadata": {
    "collapsed": false
   },
   "outputs": [
    {
     "name": "stderr",
     "output_type": "stream",
     "text": [
      "WARNING: replacing module DA\n"
     ]
    },
    {
     "data": {
      "text/plain": [
       "DA"
      ]
     },
     "execution_count": 128,
     "metadata": {},
     "output_type": "execute_result"
    }
   ],
   "source": [
    "include(\"da.jl\")"
   ]
  },
  {
   "cell_type": "code",
   "execution_count": 129,
   "metadata": {
    "collapsed": false
   },
   "outputs": [],
   "source": [
    "#;cat \"da.jl\""
   ]
  },
  {
   "cell_type": "code",
   "execution_count": null,
   "metadata": {
    "collapsed": false
   },
   "outputs": [],
   "source": []
  },
  {
   "cell_type": "code",
   "execution_count": 142,
   "metadata": {
    "collapsed": false
   },
   "outputs": [
    {
     "data": {
      "text/plain": [
       "(\n",
       "101x100 Array{Int64,2}:\n",
       " 59  98  100  91   73   59  100   18  …   0  91  82    2  56  70  28   0  34\n",
       " 16  74   36   8   13    8   17   30     51  33  23   69  65  26  15  90  42\n",
       " 20  47   59  88   37   80   62   84     94  16   9   66  77  10  71  82  20\n",
       "  1  88   78  66   34   95   14   17     87  82  53    6  20  98  26   5  59\n",
       " 47  38   56  93   56   55   43   55     43  66  28   75  85   7  72  37  22\n",
       " 15  76   20  18   43   45   68   89  …  44  31  81   44  52   4  20  48  88\n",
       " 77  79   17  19   23   90   41   92     28  63  73   23  93  17  66  35  66\n",
       " 26  72   68  81   57    9   36   43     84   4  34   88  14  44  51  52   1\n",
       " 30  35    8  15   71   46   25    6     31  32  89   76  72  15  80  85  25\n",
       " 24  59   81   5   36   44    3   45     13  51   4    0  99  57  41  14  86\n",
       " 13  57   82  59    6   81   64  100  …  30  19  39   48  27  65  43  71  18\n",
       "  8  56   14  55   96   36   63    9     85  84  79   16  81  25  77  95  16\n",
       " 80  60   13  70  100   35   35   59      1  71  52   83  62  71  98  31  30\n",
       "  ⋮                      ⋮            ⋱                    ⋮                \n",
       " 85  20   31   9   15   17    9   61     15  81  12   15  84   6  60  12   8\n",
       " 50  62   98  56   19    1   27   36  …  89  69  61    9  41  35  93  41  67\n",
       " 68  58   90   7   32   51   21   23      5  96  95   84  26  89  44  36  12\n",
       " 73   3   69  33   18   38   90   70     78  65  83   19  58  47  58  59  62\n",
       " 97  86   72  20   59  100   16   79     90  39  27  100  95   5  31  53  80\n",
       " 32  64   65  23    5   98    5   98     60  50  13   26  70  94  74  55  64\n",
       "  0  27   66  82   50   67   13   12  …  83   2  84    1  76  38  79  66  43\n",
       " 89   9   92  28   99   79   30   11     92  47  92   90  42  46  73  33  73\n",
       " 34  73   22  53   38   91   89   51     25  61  99   94   8  50  14  50  56\n",
       " 62   7   35  10   77   62   72   53     97  18  44   25  50  66   9   4  81\n",
       " 29  32   30  21   35   53   57   94      6  42  60   52  30  63  37  75  31\n",
       " 90  52   16  42   97   29   33   54  …  42  46  57   59  57  39  95  16  74,\n",
       "\n",
       "101x100 Array{Int64,2}:\n",
       " 13  81  13   39  45  42  39  52  12  43  …  75  94  30   79  100  31  67  20\n",
       " 56  17  52   90  33  39  62  63  25  69     89  59  25   80   97  44  77  82\n",
       " 19  11  40  100  14  21  75   9  33  60     33  42  71   62   14  50  29  79\n",
       " 83  45  10   56  17  49  71  83  72  55     72  18  70   66    8  77  27  67\n",
       " 31  42  81   26  43  32  44  49  34  96     38  37  40   12   50  87  60  57\n",
       " 71  71  62    3  41  77  78  77   4  62  …  14  53  59   61   29  32  20  96\n",
       " 36  69  22   50  99  14  65  14   1  72     62   3  33   40   87  34  83  83\n",
       " 98  96  23   75  89  48  92  71  89  81     70  55  26    7   82  49  42  18\n",
       " 96  88  28   45   9  66  15  95  83  67     48  82   3   28   94  45  69  75\n",
       " 38  50  26   13  10  61  51  92  99   4     20  56  84    8   92  80  97  87\n",
       " 35   8  63   48  82  93  61  54  29  73  …  19  41   7   52   49  99  16  51\n",
       " 29  30  64    2  57  68  30  24  26  15     57  13  37   72   30  84  14  22\n",
       " 60  47  72   60  59  83  32  48  70   6     28  38  11    1   93   2  54  95\n",
       "  ⋮                    ⋮                  ⋱                ⋮                 \n",
       "  9  93   9   79  56  33  37  65  28  64     95  89  35   88   63  43  47  23\n",
       " 85  44  98   11   1  76  18  74  63  83  …   5  74   2   37   62  29  18  53\n",
       " 24  76  34   58  62   6  13  72  52  28     76  22  86   13   11  67  30  14\n",
       " 18  12  55   70  50  10  57  36  32  23     44  65  90   35   60  79  21  85\n",
       " 86  57  88   30   6  43  81  94  16  29     94  43  41   47   57  97  66  17\n",
       " 25  87  87   54  29  51  34  97  73  24     87  52   5  100   91  61  53  44\n",
       " 17  97   6   32  51  46  98  91   0  34  …  30  73  80   70    2  36  99  77\n",
       " 75  39  36    1   8  59  72  85  68  80     55  84  46   84   15  85  22  66\n",
       " 67  98  35   38  25  12  94  46   9  65     40  17  44   96   77  69  84  65\n",
       " 73  85  16   23  97  64  29   4  38  46     12  95  96   91   55   0   7  56\n",
       "  8  43  51   34  47  88  48  28  86  39     15   8  56   48   20  53  68  34\n",
       " 16  14  71   24  38  53   9   5  42  37  …  23   7  54   18   58  22  49  63)"
      ]
     },
     "execution_count": 142,
     "metadata": {},
     "output_type": "execute_result"
    }
   ],
   "source": [
    "m, n = 100, 100\n",
    "m_prefs, f_prefs = DA.generate_random_preference_data(m, n)"
   ]
  },
  {
   "cell_type": "code",
   "execution_count": 143,
   "metadata": {
    "collapsed": false
   },
   "outputs": [
    {
     "data": {
      "text/plain": [
       "true"
      ]
     },
     "execution_count": 143,
     "metadata": {},
     "output_type": "execute_result"
    }
   ],
   "source": [
    "DA.call_match(m, n, m_prefs, f_prefs)\n",
    "DA.check_data(m, n, m_prefs, f_prefs)"
   ]
  },
  {
   "cell_type": "code",
   "execution_count": 140,
   "metadata": {
    "collapsed": false,
    "scrolled": false
   },
   "outputs": [
    {
     "data": {
      "text/plain": [
       "([0,0,0,0,69,0,0,0,0,72  …  0,0,0,0,0,0,65,88,0,0],[43,0,0,0,16,0,54,70,0,70  …  25,44,0,0,0,0,15,0,0,0])"
      ]
     },
     "execution_count": 140,
     "metadata": {},
     "output_type": "execute_result"
    }
   ],
   "source": [
    "m_f, f_m = DA.call_match(m, n, m_prefs, f_prefs)"
   ]
  },
  {
   "cell_type": "code",
   "execution_count": 124,
   "metadata": {
    "collapsed": false
   },
   "outputs": [
    {
     "ename": "LoadError",
     "evalue": "LoadError: Matching Incomplete with female 14, f_m[14] = 34 though m_f[34] = 2\nwhile loading In[124], in expression starting on line 1",
     "output_type": "error",
     "traceback": [
      "LoadError: Matching Incomplete with female 14, f_m[14] = 34 though m_f[34] = 2\nwhile loading In[124], in expression starting on line 1",
      "",
      " in error at /Applications/Julia-0.4.5 2.app/Contents/Resources/julia/lib/julia/sys.dylib",
      " in check_results at /Users/neon/Desktop/S/zemi/DA_alg.jl/da.jl:27"
     ]
    }
   ],
   "source": [
    "DA.check_results(m_f, f_m)"
   ]
  },
  {
   "cell_type": "code",
   "execution_count": 125,
   "metadata": {
    "collapsed": false
   },
   "outputs": [
    {
     "data": {
      "text/plain": [
       "100-element Array{Int64,1}:\n",
       "  0\n",
       " 34\n",
       "  3\n",
       "  0\n",
       "  6\n",
       "  0\n",
       "  0\n",
       "  0\n",
       "  0\n",
       "  0\n",
       " 94\n",
       " 17\n",
       "  0\n",
       "  ⋮\n",
       "  0\n",
       "  0\n",
       "  0\n",
       " 71\n",
       "  0\n",
       "  0\n",
       "  0\n",
       " 55\n",
       " 15\n",
       "  0\n",
       " 80\n",
       "  0"
      ]
     },
     "execution_count": 125,
     "metadata": {},
     "output_type": "execute_result"
    }
   ],
   "source": [
    "f_m"
   ]
  },
  {
   "cell_type": "code",
   "execution_count": 126,
   "metadata": {
    "collapsed": false
   },
   "outputs": [
    {
     "data": {
      "text/plain": [
       "0"
      ]
     },
     "execution_count": 126,
     "metadata": {},
     "output_type": "execute_result"
    }
   ],
   "source": [
    "f_m[8]"
   ]
  },
  {
   "cell_type": "code",
   "execution_count": 127,
   "metadata": {
    "collapsed": false
   },
   "outputs": [
    {
     "data": {
      "text/plain": [
       "25"
      ]
     },
     "execution_count": 127,
     "metadata": {},
     "output_type": "execute_result"
    }
   ],
   "source": [
    "m_f[35]"
   ]
  },
  {
   "cell_type": "code",
   "execution_count": 157,
   "metadata": {
    "collapsed": true
   },
   "outputs": [],
   "source": [
    "m, n = 10, 10\n",
    "for i in 1:100\n",
    "    m_prefs, f_prefs = DA.generate_random_preference_data(m, n)\n",
    "    DA.call_match(m, n, m_prefs, f_prefs)\n",
    "    try\n",
    "        DA.check_data(m, n, m_prefs, f_prefs)\n",
    "    catch\n",
    "        println(m_prefs, f_prefs)\n",
    "        break\n",
    "    end\n",
    "end"
   ]
  },
  {
   "cell_type": "code",
   "execution_count": null,
   "metadata": {
    "collapsed": true
   },
   "outputs": [],
   "source": []
  }
 ],
 "metadata": {
  "kernelspec": {
   "display_name": "Julia 0.4.5",
   "language": "julia",
   "name": "julia-0.4"
  },
  "language_info": {
   "file_extension": ".jl",
   "mimetype": "application/julia",
   "name": "julia",
   "version": "0.4.5"
  }
 },
 "nbformat": 4,
 "nbformat_minor": 0
}
