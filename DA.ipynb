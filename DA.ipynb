{
 "cells": [
  {
   "cell_type": "markdown",
   "metadata": {},
   "source": [
    "# DA Algorithm\n",
    "### 中田 竜明"
   ]
  },
  {
   "cell_type": "code",
   "execution_count": 2,
   "metadata": {
    "collapsed": false
   },
   "outputs": [
    {
     "name": "stderr",
     "output_type": "stream",
     "text": [
      "WARNING: replacing module DA\n"
     ]
    },
    {
     "data": {
      "text/plain": [
       "DA"
      ]
     },
     "execution_count": 2,
     "metadata": {},
     "output_type": "execute_result"
    }
   ],
   "source": [
    "include(\"da.jl\")"
   ]
  },
  {
   "cell_type": "markdown",
   "metadata": {
    "collapsed": false
   },
   "source": [
    "[ソースコード:da.jl](https://github.com/nswa17/DA_alg.jl/blob/master/da.jl)"
   ]
  },
  {
   "cell_type": "code",
   "execution_count": 2,
   "metadata": {
    "collapsed": false
   },
   "outputs": [
    {
     "data": {
      "text/plain": [
       "true"
      ]
     },
     "execution_count": 2,
     "metadata": {},
     "output_type": "execute_result"
    }
   ],
   "source": [
    "m, n = 100, 100\n",
    "m_prefs, f_prefs = DA.generate_random_preference_data(m, n)\n",
    "DA.check_data(m_prefs, f_prefs)"
   ]
  },
  {
   "cell_type": "markdown",
   "metadata": {},
   "source": [
    "まずm, nそれぞれに100を設定し, ランダムな選好表を作成します. ついでにデータのチェックも行っています."
   ]
  },
  {
   "cell_type": "code",
   "execution_count": 5,
   "metadata": {
    "collapsed": false
   },
   "outputs": [
    {
     "data": {
      "text/plain": [
       "true"
      ]
     },
     "execution_count": 5,
     "metadata": {},
     "output_type": "execute_result"
    }
   ],
   "source": [
    "m_matched, f_matched = DA.call_match(m_prefs, f_prefs)\n",
    "DA.check_results(m_matched, f_matched)"
   ]
  },
  {
   "cell_type": "markdown",
   "metadata": {},
   "source": [
    "DAアルゴリズムを走らせて結果を得ました. 結果も問題ないようです."
   ]
  },
  {
   "cell_type": "code",
   "execution_count": 25,
   "metadata": {
    "collapsed": false
   },
   "outputs": [
    {
     "data": {
      "text/plain": [
       "true"
      ]
     },
     "execution_count": 25,
     "metadata": {},
     "output_type": "execute_result"
    }
   ],
   "source": [
    "DA.stable_matching(m_matched, f_matched, m_prefs, f_prefs)"
   ]
  },
  {
   "cell_type": "markdown",
   "metadata": {},
   "source": [
    "きちんと安定マッチングになっています. もちろん次のマッチングは安定ではないので,"
   ]
  },
  {
   "cell_type": "code",
   "execution_count": 27,
   "metadata": {
    "collapsed": false
   },
   "outputs": [
    {
     "data": {
      "text/plain": [
       "false"
      ]
     },
     "execution_count": 27,
     "metadata": {},
     "output_type": "execute_result"
    }
   ],
   "source": [
    "DA.stable_matching([1 2], [1 2], [2 1; 1 2; 0 0], [2 1; 1 2; 0 0])"
   ]
  },
  {
   "cell_type": "code",
   "execution_count": 16,
   "metadata": {
    "collapsed": false,
    "scrolled": false
   },
   "outputs": [
    {
     "data": {
      "text/plain": [
       "1x100 Array{Int64,2}:\n",
       " 90  21  31  20  38  73  96  22  27  61  …  80  44  62  7  9  69  33  66  41"
      ]
     },
     "execution_count": 16,
     "metadata": {},
     "output_type": "execute_result"
    }
   ],
   "source": [
    "transpose(m_matched)"
   ]
  },
  {
   "cell_type": "code",
   "execution_count": 17,
   "metadata": {
    "collapsed": false
   },
   "outputs": [
    {
     "data": {
      "text/plain": [
       "1x100 Array{Int64,2}:\n",
       " 63  67  0  23  90  21  6  86  5  32  …  13  0  24  83  94  48  17  79  34"
      ]
     },
     "execution_count": 17,
     "metadata": {},
     "output_type": "execute_result"
    }
   ],
   "source": [
    "transpose(f_matched)"
   ]
  },
  {
   "cell_type": "markdown",
   "metadata": {},
   "source": [
    "シンプル版でも同様に安定マッチングが得られます."
   ]
  },
  {
   "cell_type": "code",
   "execution_count": 5,
   "metadata": {
    "collapsed": false
   },
   "outputs": [
    {
     "data": {
      "text/plain": [
       "true"
      ]
     },
     "execution_count": 5,
     "metadata": {},
     "output_type": "execute_result"
    }
   ],
   "source": [
    "m, n = 100, 100\n",
    "m_prefs, f_prefs = DA.generate_random_preference_data(m, n)\n",
    "DA.check_data(m_prefs, f_prefs)\n",
    "\n",
    "m_matched, f_matched = DA.call_simple_match(m_prefs, f_prefs)\n",
    "DA.check_results(m_matched, f_matched)\n",
    "DA.stable_matching(m_matched, f_matched, m_prefs, f_prefs)"
   ]
  },
  {
   "cell_type": "markdown",
   "metadata": {},
   "source": [
    "テストを行います."
   ]
  },
  {
   "cell_type": "code",
   "execution_count": 2,
   "metadata": {
    "collapsed": false
   },
   "outputs": [
    {
     "name": "stdout",
     "output_type": "stream",
     "text": [
      "Test Summary: | Pass  Total\n",
      "Testing da.jl |    4      4\n",
      "\n"
     ]
    },
    {
     "name": "stderr",
     "output_type": "stream",
     "text": [
      "WARNING: replacing module DA\n"
     ]
    }
   ],
   "source": [
    "deferred_acceptance = DA.call_match\n",
    "include(\"test_deferred_acceptance.jl\")\n",
    "println()"
   ]
  },
  {
   "cell_type": "markdown",
   "metadata": {},
   "source": [
    "通りました. 再帰版, シンプル版では,,"
   ]
  },
  {
   "cell_type": "code",
   "execution_count": 2,
   "metadata": {
    "collapsed": false
   },
   "outputs": [
    {
     "name": "stdout",
     "output_type": "stream",
     "text": [
      "Test Summary: | Pass  Total\n",
      "Testing da.jl |    4      4\n",
      "\n"
     ]
    },
    {
     "name": "stderr",
     "output_type": "stream",
     "text": [
      "WARNING: replacing module DA\n"
     ]
    }
   ],
   "source": [
    "deferred_acceptance = (x, y) -> DA.call_match(x, y, true)\n",
    "include(\"test_deferred_acceptance.jl\")\n",
    "println()"
   ]
  },
  {
   "cell_type": "code",
   "execution_count": 4,
   "metadata": {
    "collapsed": false
   },
   "outputs": [
    {
     "name": "stdout",
     "output_type": "stream",
     "text": [
      "Test Summary: | Pass  Total\n",
      "Testing da.jl |    4      4\n",
      "\n"
     ]
    },
    {
     "name": "stderr",
     "output_type": "stream",
     "text": [
      "WARNING: redefining constant file_name\n",
      "WARNING: redefining constant function_name\n",
      "WARNING: replacing module DA\n"
     ]
    }
   ],
   "source": [
    "deferred_accpetance = DA.call_simple_match\n",
    "include(\"test_deferred_acceptance.jl\")\n",
    "println()"
   ]
  },
  {
   "cell_type": "markdown",
   "metadata": {},
   "source": [
    "通ったようです.\n",
    "\n",
    "次にスピードを計測します. m,nと繰り返し回数, 再帰かどうかを引数に取る関数をとりあえず作りました. "
   ]
  },
  {
   "cell_type": "code",
   "execution_count": 10,
   "metadata": {
    "collapsed": false
   },
   "outputs": [
    {
     "data": {
      "text/plain": [
       "speedtest1 (generic function with 1 method)"
      ]
     },
     "execution_count": 10,
     "metadata": {},
     "output_type": "execute_result"
    }
   ],
   "source": [
    "function speedtest1(m, n, l, rec)\n",
    "    m_prefs, f_prefs = DA.generate_random_preference_data(m, n)\n",
    "    for i in 1:l\n",
    "        DA.call_match(m_prefs, f_prefs, rec)\n",
    "    end\n",
    "end"
   ]
  },
  {
   "cell_type": "markdown",
   "metadata": {},
   "source": [
    "以下の結果を得ました.再帰かそうでないかではコードの一部しか変わっていないのですが, かなり速度差が出ているようです.\n",
    "\n",
    "当然のことながらメモリ割り当ても再帰のほうが多く, それぞれ１０倍近いようです.\n",
    "```\n",
    "@time speedtest1(10, 10, 1000, true) # => 0.311742 seconds (1.41 M allocations: 89.571 MB, 9.54% gc time)\n",
    "@time speedtest1(10, 10, 1000, false) # =>  0.051650 seconds (228.50 k allocations: 19.520 MB, 7.10% gc time)\n",
    "@time speedtest1(100, 100, 100, true) # =>  5.819466 seconds (20.06 M allocations: 1.587 GB, 4.37% gc time)\n",
    "@time speedtest1(100, 100, 100, false) # =>  0.166037 seconds (216.80 k allocations: 74.657 MB, 8.77% gc time)\n",
    "```"
   ]
  },
  {
   "cell_type": "markdown",
   "metadata": {},
   "source": [
    "次にProfileでどこが遅いかを見てみます. まずは再帰を使わない時から.\n",
    "```\n",
    "@profile test1(100, 100, 100, false)\n",
    "Profile.print()\n",
    "```"
   ]
  },
  {
   "cell_type": "markdown",
   "metadata": {
    "collapsed": true
   },
   "source": [
    "```\n",
    "244 task.jl; anonymous; line: 447\n",
    " 244 .../IJulia/src/IJulia.jl; eventloop; line: 143\n",
    "  244 ...rc/execute_request.jl; execute_request_0x535c5df2; line: 183\n",
    "   244 loading.jl; include_string; line: 282\n",
    "    244 profile.jl; anonymous; line: 16\n",
    "     167 In[167]; test1; line: 3\n",
    "      2  ...zemi/DA_alg.jl/da.jl; generate_random_preference_data; line: 37\n",
    "      92 ...zemi/DA_alg.jl/da.jl; generate_random_preference_data; line: 39\n",
    "       7  ...lib/julia/sys.dylib; vcat; (unknown line)\n",
    "       10 array.jl; copy; line: 100\n",
    "       3  multidimensional.jl; _unsafe_batchsetindex!; line: 328\n",
    "       1  multidimensional.jl; _unsafe_batchsetindex!; line: 329\n",
    "       1  random.jl; call; line: 475\n",
    "       66 random.jl; shuffle!; line: 1330\n",
    "        4  random.jl; call; line: 471\n",
    "        14 random.jl; call; line: 475\n",
    "         14 random.jl; maxmultiplemix; line: 445\n",
    "        10 random.jl; rand; line: 514\n",
    "        1  random.jl; rand; line: 515\n",
    "        12 random.jl; rand; line: 516\n",
    "         7 random.jl; gen_rand; line: 88\n",
    "          7 dSFMT.jl; dsfmt_fill_array_close1_open2!; line: 67\n",
    "        1  random.jl; rand; line: 518\n",
    "        20 random.jl; rand; line: 526\n",
    "       1  random.jl; shuffle!; line: 1333\n",
    "      72 ...zemi/DA_alg.jl/da.jl; generate_random_preference_data; line: 42\n",
    "       6  ...lib/julia/sys.dylib; vcat; (unknown line)\n",
    "       3  cartesian.jl; _unsafe_batchsetindex!; line: 34\n",
    "       4  multidimensional.jl; _unsafe_batchsetindex!; line: 328\n",
    "       1  random.jl; call; line: 475\n",
    "       55 random.jl; shuffle!; line: 1330\n",
    "        3  random.jl; call; line: 471\n",
    "        16 random.jl; call; line: 475\n",
    "         16 random.jl; maxmultiplemix; line: 445\n",
    "        6  random.jl; rand; line: 514\n",
    "        6  random.jl; rand; line: 516\n",
    "         2 random.jl; gen_rand; line: 88\n",
    "          2 dSFMT.jl; dsfmt_fill_array_close1_open2!; line: 67\n",
    "        1  random.jl; rand; line: 518\n",
    "        1  random.jl; rand; line: 523\n",
    "        17 random.jl; rand; line: 526\n",
    "       3  random.jl; shuffle!; line: 1331\n",
    "     77  In[167]; test1; line: 4\n",
    "      6  ...zemi/DA_alg.jl/da.jl; call_match; line: 51\n",
    "       1 array.jl; findnext; line: 717\n",
    "       2 multidimensional.jl; _unsafe_getindex; line: 193\n",
    "       3 multidimensional.jl; _unsafe_getindex; line: 195\n",
    "      70 ...zemi/DA_alg.jl/da.jl; call_match; line: 57\n",
    "       70 ...emi/DA_alg.jl/da.jl; da_match; line: 143\n",
    "        70 ...emi/DA_alg.jl/da.jl; decide_to_accept!; line: 111\n",
    "         46 ...emi/DA_alg.jl/da.jl; get_best_male_pointers!; line: 100\n",
    "          1  array.jl; findin; line: 889\n",
    "          28 array.jl; findin; line: 890\n",
    "           25 ...lib/julia/sys.dylib; zeros; (unknown line)\n",
    "            3 ...lib/julia/sys.dylib; call; (unknown line)\n",
    "          17 array.jl; findin; line: 892\n",
    "           14 ...lib/julia/sys.dylib; ht_keyindex; (unknown line)\n",
    "            3 ...lib/julia/sys.dylib; hash_64_64; (unknown line)\n",
    "         24 ...emi/DA_alg.jl/da.jl; get_best_male_pointers!; line: 102\n",
    "          11 abstractarray.jl; map; line: 1305\n",
    "           11 ...mi/DA_alg.jl/da.jl; anonymous; line: 102\n",
    "            6 abstractarray.jl; getindex; line: 488\n",
    "             5 multidimensional.jl; _unsafe_getindex; line: 193\n",
    "          4  abstractarray.jl; map; line: 1306\n",
    "           3 ...lib/julia/sys.dylib; call; (unknown line)\n",
    "          1  abstractarray.jl; map; line: 1307\n",
    "          6  abstractarray.jl; map; line: 1308\n",
    "           1 abstractarray.jl; map_to!; line: 1286\n",
    "            1 ...mi/DA_alg.jl/da.jl; anonymous; line: 102\n",
    "      1  ...zemi/DA_alg.jl/da.jl; call_match; line: 58\n",
    "       1 ...zemi/DA_alg.jl/da.jl; convert_pointer_to_list; line: 71\n",
    "        1 array.jl; findnext; line: 717\n",
    "```"
   ]
  },
  {
   "cell_type": "markdown",
   "metadata": {
    "collapsed": false
   },
   "source": [
    "再帰を使うと...\n",
    "```\n",
    "@profile test1(100, 100, 100, true)\n",
    "Profile.print()\n",
    "```"
   ]
  },
  {
   "cell_type": "markdown",
   "metadata": {
    "collapsed": true
   },
   "source": [
    "```\n",
    "4    ...a/lib/julia/sys.dylib; ht_keyindex; (unknown line)\n",
    "4    abstractarray.jl; map; line: 1306\n",
    "3    array.jl; findin; line: 890\n",
    "1    array.jl; findnext; line: 715\n",
    "1    multidimensional.jl; checksize; line: 270\n",
    "1    random.jl; maxmultiplemix; line: 445\n",
    "4887 task.jl; anonymous; line: 447\n",
    " 4887 .../IJulia/src/IJulia.jl; eventloop; line: 143\n",
    "  4887 ...rc/execute_request.jl; execute_request_0x535c5df2; line: 183\n",
    "   4887 loading.jl; include_string; line: 282\n",
    "    4887 profile.jl; anonymous; line: 16\n",
    "     237  In[167]; test1; line: 3\n",
    "      2   ...zemi/DA_alg.jl/da.jl; generate_random_preference_data; line: 37\n",
    "      126 ...zemi/DA_alg.jl/da.jl; generate_random_preference_data; line: 39\n",
    "       7  ...lib/julia/sys.dylib; vcat; (unknown line)\n",
    "       10 array.jl; copy; line: 100\n",
    "       3  multidimensional.jl; _unsafe_batchsetindex!; line: 328\n",
    "       1  multidimensional.jl; _unsafe_batchsetindex!; line: 329\n",
    "       1  random.jl; call; line: 475\n",
    "       92 random.jl; shuffle!; line: 1330\n",
    "        7  random.jl; call; line: 471\n",
    "        22 random.jl; call; line: 475\n",
    "         21 random.jl; maxmultiplemix; line: 445\n",
    "        14 random.jl; rand; line: 514\n",
    "        1  random.jl; rand; line: 515\n",
    "        15 random.jl; rand; line: 516\n",
    "         9 random.jl; gen_rand; line: 88\n",
    "          9 dSFMT.jl; dsfmt_fill_array_close1_open2!; line: 67\n",
    "        1  random.jl; rand; line: 518\n",
    "        25 random.jl; rand; line: 526\n",
    "       5  random.jl; shuffle!; line: 1331\n",
    "       1  random.jl; shuffle!; line: 1333\n",
    "      108 ...zemi/DA_alg.jl/da.jl; generate_random_preference_data; line: 42\n",
    "       7  ...lib/julia/sys.dylib; vcat; (unknown line)\n",
    "       3  array.jl; copy; line: 100\n",
    "       3  cartesian.jl; _unsafe_batchsetindex!; line: 34\n",
    "       5  multidimensional.jl; _unsafe_batchsetindex!; line: 328\n",
    "       1  multidimensional.jl; _unsafe_batchsetindex!; line: 329\n",
    "       1  random.jl; call; line: 475\n",
    "       81 random.jl; shuffle!; line: 1330\n",
    "        3  random.jl; call; line: 471\n",
    "        22 random.jl; call; line: 475\n",
    "         22 random.jl; maxmultiplemix; line: 445\n",
    "        12 random.jl; rand; line: 514\n",
    "        9  random.jl; rand; line: 516\n",
    "         4 random.jl; gen_rand; line: 88\n",
    "          4 dSFMT.jl; dsfmt_fill_array_close1_open2!; line: 67\n",
    "        1  random.jl; rand; line: 518\n",
    "        1  random.jl; rand; line: 523\n",
    "        25 random.jl; rand; line: 526\n",
    "       7  random.jl; shuffle!; line: 1331\n",
    "     4650 In[167]; test1; line: 4\n",
    "      7    ...emi/DA_alg.jl/da.jl; call_match; line: 51\n",
    "       1 array.jl; findnext; line: 717\n",
    "       3 multidimensional.jl; _unsafe_getindex; line: 193\n",
    "       3 multidimensional.jl; _unsafe_getindex; line: 195\n",
    "      1    ...emi/DA_alg.jl/da.jl; call_match; line: 53\n",
    "       1 ...a/lib/julia/sys.dylib; call; (unknown line)\n",
    "        1 .../lib/julia/sys.dylib; call; (unknown line)\n",
    "      4641 ...emi/DA_alg.jl/da.jl; call_match; line: 57\n",
    "       70   ...emi/DA_alg.jl/da.jl; da_match; line: 143\n",
    "        70 ...emi/DA_alg.jl/da.jl; decide_to_accept!; line: 111\n",
    "         46 ...emi/DA_alg.jl/da.jl; get_best_male_pointers!; line: 100\n",
    "          1  array.jl; findin; line: 889\n",
    "          28 array.jl; findin; line: 890\n",
    "           25 ...lib/julia/sys.dylib; zeros; (unknown line)\n",
    "            3 ...lib/julia/sys.dylib; call; (unknown line)\n",
    "          17 array.jl; findin; line: 892\n",
    "           14 ...lib/julia/sys.dylib; ht_keyindex; (unknown line)\n",
    "            3 ...lib/julia/sys.dylib; hash_64_64; (unknown line)\n",
    "         24 ...emi/DA_alg.jl/da.jl; get_best_male_pointers!; line: 102\n",
    "          11 abstractarray.jl; map; line: 1305\n",
    "           11 ...mi/DA_alg.jl/da.jl; anonymous; line: 102\n",
    "            6 abstractarray.jl; getindex; line: 488\n",
    "             5 multidimensional.jl; _unsafe_getindex; line: 193\n",
    "          4  abstractarray.jl; map; line: 1306\n",
    "           3 ...lib/julia/sys.dylib; call; (unknown line)\n",
    "          1  abstractarray.jl; map; line: 1307\n",
    "          6  abstractarray.jl; map; line: 1308\n",
    "           1 abstractarray.jl; map_to!; line: 1286\n",
    "            1 ...mi/DA_alg.jl/da.jl; anonymous; line: 102\n",
    "       38   ...emi/DA_alg.jl/da.jl; recursive_da_match; line: 128\n",
    "        38 ...emi/DA_alg.jl/da.jl; decide_to_accept!; line: 111\n",
    "         25 ...emi/DA_alg.jl/da.jl; get_best_male_pointers!; line: 100\n",
    "          18 array.jl; findin; line: 890\n",
    "           17 ...lib/julia/sys.dylib; zeros; (unknown line)\n",
    "            1 ...lib/julia/sys.dylib; call; (unknown line)\n",
    "          7  array.jl; findin; line: 892\n",
    "           5 ...lib/julia/sys.dylib; ht_keyindex; (unknown line)\n",
    "            1 ...lib/julia/sys.dylib; hash_64_64; (unknown line)\n",
    "         13 ...emi/DA_alg.jl/da.jl; get_best_male_pointers!; line: 102\n",
    "          9 abstractarray.jl; map; line: 1305\n",
    "           9 ...mi/DA_alg.jl/da.jl; anonymous; line: 102\n",
    "            6 abstractarray.jl; getindex; line: 488\n",
    "             4 multidimensional.jl; _unsafe_getindex; line: 193\n",
    "             1 multidimensional.jl; _unsafe_getindex; line: 194\n",
    "              1 multidimensional.jl; checksize; line: 270\n",
    "             1 multidimensional.jl; _unsafe_getindex; line: 195\n",
    "            1 array.jl; findfirst; line: 722\n",
    "             1 array.jl; findnext; line: 716\n",
    "          1 abstractarray.jl; map; line: 1306\n",
    "           1 ...lib/julia/sys.dylib; call; (unknown line)\n",
    "          2 abstractarray.jl; map; line: 1307\n",
    "          1 abstractarray.jl; map; line: 1308\n",
    "       4533 ...emi/DA_alg.jl/da.jl; recursive_da_match; line: 133\n",
    "(以下長いので略)\n",
    "```"
   ]
  },
  {
   "cell_type": "markdown",
   "metadata": {
    "collapsed": true
   },
   "source": [
    "再帰を使うところで激遅になっている事がわかります. "
   ]
  },
  {
   "cell_type": "markdown",
   "metadata": {},
   "source": [
    "------"
   ]
  },
  {
   "cell_type": "markdown",
   "metadata": {},
   "source": [
    "この後速度を早くするためにアルゴリズムを調整しました.　map関数を書き換えたり...\n",
    "\n",
    "結果がこちらです."
   ]
  },
  {
   "cell_type": "code",
   "execution_count": 9,
   "metadata": {
    "collapsed": false
   },
   "outputs": [
    {
     "name": "stdout",
     "output_type": "stream",
     "text": [
      "  0.008510 seconds (104.07 k allocations: 8.050 MB, 15.10% gc time)\n",
      "  0.004992 seconds (75.07 k allocations: 5.960 MB)\n",
      "  0.061316 seconds (235.61 k allocations: 97.252 MB, 7.98% gc time)\n",
      "  0.047922 seconds (188.11 k allocations: 75.882 MB, 10.25% gc time)\n"
     ]
    }
   ],
   "source": [
    "@time speedtest1(10, 10, 1000, true)\n",
    "@time speedtest1(10, 10, 1000, false)\n",
    "@time speedtest1(100, 100, 100, true)\n",
    "@time speedtest1(100, 100, 100, false)"
   ]
  },
  {
   "cell_type": "markdown",
   "metadata": {},
   "source": [
    "参考までに,先ほどの結果は\n",
    "```\n",
    "@time speedtest1(10, 10, 1000, true) # => 0.311742 seconds (1.41 M allocations: 89.571 MB, 9.54% gc time)\n",
    "@time speedtest1(10, 10, 1000, false) # =>  0.051650 seconds (228.50 k allocations: 19.520 MB, 7.10% gc time)\n",
    "@time speedtest1(100, 100, 100, true) # =>  5.819466 seconds (20.06 M allocations: 1.587 GB, 4.37% gc time)\n",
    "@time speedtest1(100, 100, 100, false) # =>  0.166037 seconds (216.80 k allocations: 74.657 MB, 8.77% gc time)\n",
    "```"
   ]
  },
  {
   "cell_type": "markdown",
   "metadata": {},
   "source": [
    "再帰に関して速度が30~100倍ほど早くなってしまいました. 普通のアルゴリズムでも4~10倍の速度が出ています.\n",
    "\n",
    "さらに再帰なし版について測ってみます."
   ]
  },
  {
   "cell_type": "code",
   "execution_count": 10,
   "metadata": {
    "collapsed": false
   },
   "outputs": [
    {
     "name": "stdout",
     "output_type": "stream",
     "text": [
      "  0.004421 seconds (71.06 k allocations: 5.624 MB)\n",
      "  0.037412 seconds (248.12 k allocations: 27.522 MB, 7.17% gc time)\n",
      "  0.099779 seconds (521.18 k allocations: 81.949 MB, 22.67% gc time)\n",
      "  0.133260 seconds (634.24 k allocations: 131.947 MB, 24.82% gc time)\n",
      "  0.191103 seconds (855.30 k allocations: 216.210 MB, 27.00% gc time)\n",
      "  0.310273 seconds (1.25 M allocations: 333.764 MB, 26.73% gc time)\n",
      "  0.457669 seconds (1.62 M allocations: 497.376 MB, 27.68% gc time)\n",
      "  0.692682 seconds (2.14 M allocations: 701.836 MB, 25.76% gc time)\n",
      "  0.832984 seconds (2.29 M allocations: 840.361 MB, 26.24% gc time)\n",
      "  0.878811 seconds (3.46 M allocations: 1.400 GB, 9.25% gc time)\n",
      "  0.993192 seconds (2.74 M allocations: 1.256 GB, 30.86% gc time)\n",
      "  1.367815 seconds (3.09 M allocations: 1.532 GB, 32.09% gc time)\n",
      "  1.301243 seconds (2.55 M allocations: 1.312 GB, 30.13% gc time)\n",
      "  2.237044 seconds (4.48 M allocations: 2.468 GB, 29.92% gc time)\n",
      "  2.205013 seconds (4.70 M allocations: 2.874 GB, 31.66% gc time)\n",
      "  2.086873 seconds (4.37 M allocations: 2.701 GB, 32.63% gc time)\n",
      "  2.101123 seconds (4.19 M allocations: 2.788 GB, 31.85% gc time)\n",
      "  2.567895 seconds (4.72 M allocations: 3.490 GB, 34.02% gc time)\n",
      "  2.969407 seconds (5.13 M allocations: 3.732 GB, 31.52% gc time)\n",
      "  3.714042 seconds (6.52 M allocations: 5.371 GB, 35.73% gc time)\n",
      "  3.787283 seconds (6.32 M allocations: 5.131 GB, 33.18% gc time)\n",
      "  4.514897 seconds (6.49 M allocations: 5.807 GB, 31.63% gc time)\n",
      "  5.164590 seconds (7.76 M allocations: 7.152 GB, 34.44% gc time)\n",
      "  5.747971 seconds (8.46 M allocations: 7.853 GB, 34.77% gc time)\n",
      "  6.480615 seconds (8.99 M allocations: 8.347 GB, 24.20% gc time)\n",
      "  6.782499 seconds (9.74 M allocations: 9.585 GB, 26.25% gc time)\n",
      "  6.782342 seconds (8.88 M allocations: 8.910 GB, 23.63% gc time)\n",
      "  8.031126 seconds (10.02 M allocations: 10.516 GB, 23.85% gc time)\n",
      " 10.519969 seconds (11.87 M allocations: 12.479 GB, 20.23% gc time)\n",
      " 11.867743 seconds (14.76 M allocations: 16.530 GB, 22.95% gc time)\n",
      " 10.758971 seconds (12.08 M allocations: 13.944 GB, 23.81% gc time)\n",
      " 15.402221 seconds (15.50 M allocations: 18.253 GB, 21.33% gc time)\n",
      " 15.754614 seconds (15.44 M allocations: 18.548 GB, 20.83% gc time)\n",
      " 14.622754 seconds (14.73 M allocations: 18.252 GB, 21.03% gc time)\n",
      " 14.426842 seconds (16.11 M allocations: 20.856 GB, 23.57% gc time)\n",
      " 13.807909 seconds (14.75 M allocations: 19.492 GB, 21.82% gc time)\n",
      " 17.929274 seconds (20.84 M allocations: 28.949 GB, 24.73% gc time)\n",
      " 18.154148 seconds (18.20 M allocations: 25.866 GB, 24.07% gc time)\n",
      " 20.904895 seconds (18.72 M allocations: 26.485 GB, 20.84% gc time)\n",
      " 19.857537 seconds (19.01 M allocations: 28.425 GB, 23.69% gc time)\n"
     ]
    }
   ],
   "source": [
    "for i in 1:40\n",
    "    @time speedtest1(10*i, 10*i, 1000, false)\n",
    "end"
   ]
  },
  {
   "cell_type": "code",
   "execution_count": 20,
   "metadata": {
    "collapsed": false
   },
   "outputs": [
    {
     "data": {
      "text/plain": [
       "get_seconds (generic function with 1 method)"
      ]
     },
     "execution_count": 20,
     "metadata": {},
     "output_type": "execute_result"
    }
   ],
   "source": [
    "k1 = \"0.004421 seconds (71.06 k allocations: 5.624 MB)\n",
    "  0.037412 seconds (248.12 k allocations: 27.522 MB, 7.17% gc time)\n",
    "  0.099779 seconds (521.18 k allocations: 81.949 MB, 22.67% gc time)\n",
    "  0.133260 seconds (634.24 k allocations: 131.947 MB, 24.82% gc time)\n",
    "  0.191103 seconds (855.30 k allocations: 216.210 MB, 27.00% gc time)\n",
    "  0.310273 seconds (1.25 M allocations: 333.764 MB, 26.73% gc time)\n",
    "  0.457669 seconds (1.62 M allocations: 497.376 MB, 27.68% gc time)\n",
    "  0.692682 seconds (2.14 M allocations: 701.836 MB, 25.76% gc time)\n",
    "  0.832984 seconds (2.29 M allocations: 840.361 MB, 26.24% gc time)\n",
    "  0.878811 seconds (3.46 M allocations: 1.400 GB, 9.25% gc time)\n",
    "  0.993192 seconds (2.74 M allocations: 1.256 GB, 30.86% gc time)\n",
    "  1.367815 seconds (3.09 M allocations: 1.532 GB, 32.09% gc time)\n",
    "  1.301243 seconds (2.55 M allocations: 1.312 GB, 30.13% gc time)\n",
    "  2.237044 seconds (4.48 M allocations: 2.468 GB, 29.92% gc time)\n",
    "  2.205013 seconds (4.70 M allocations: 2.874 GB, 31.66% gc time)\n",
    "  2.086873 seconds (4.37 M allocations: 2.701 GB, 32.63% gc time)\n",
    "  2.101123 seconds (4.19 M allocations: 2.788 GB, 31.85% gc time)\n",
    "  2.567895 seconds (4.72 M allocations: 3.490 GB, 34.02% gc time)\n",
    "  2.969407 seconds (5.13 M allocations: 3.732 GB, 31.52% gc time)\n",
    "  3.714042 seconds (6.52 M allocations: 5.371 GB, 35.73% gc time)\n",
    "  3.787283 seconds (6.32 M allocations: 5.131 GB, 33.18% gc time)\n",
    "  4.514897 seconds (6.49 M allocations: 5.807 GB, 31.63% gc time)\n",
    "  5.164590 seconds (7.76 M allocations: 7.152 GB, 34.44% gc time)\n",
    "  5.747971 seconds (8.46 M allocations: 7.853 GB, 34.77% gc time)\n",
    "  6.480615 seconds (8.99 M allocations: 8.347 GB, 24.20% gc time)\n",
    "  6.782499 seconds (9.74 M allocations: 9.585 GB, 26.25% gc time)\n",
    "  6.782342 seconds (8.88 M allocations: 8.910 GB, 23.63% gc time)\n",
    "  8.031126 seconds (10.02 M allocations: 10.516 GB, 23.85% gc time)\n",
    " 10.519969 seconds (11.87 M allocations: 12.479 GB, 20.23% gc time)\n",
    " 11.867743 seconds (14.76 M allocations: 16.530 GB, 22.95% gc time)\n",
    " 10.758971 seconds (12.08 M allocations: 13.944 GB, 23.81% gc time)\n",
    " 15.402221 seconds (15.50 M allocations: 18.253 GB, 21.33% gc time)\n",
    " 15.754614 seconds (15.44 M allocations: 18.548 GB, 20.83% gc time)\n",
    " 14.622754 seconds (14.73 M allocations: 18.252 GB, 21.03% gc time)\n",
    " 14.426842 seconds (16.11 M allocations: 20.856 GB, 23.57% gc time)\n",
    " 13.807909 seconds (14.75 M allocations: 19.492 GB, 21.82% gc time)\n",
    " 17.929274 seconds (20.84 M allocations: 28.949 GB, 24.73% gc time)\n",
    " 18.154148 seconds (18.20 M allocations: 25.866 GB, 24.07% gc time)\n",
    " 20.904895 seconds (18.72 M allocations: 26.485 GB, 20.84% gc time)\n",
    " 19.857537 seconds (19.01 M allocations: 28.425 GB, 23.69% gc time)\"\n",
    "\n",
    "function get_seconds(s::AbstractString)\n",
    "    return matchall(r\"\\d+\\.\\d{6}\", s)\n",
    "end"
   ]
  },
  {
   "cell_type": "markdown",
   "metadata": {},
   "source": [
    "得たデータをプロットしてみます."
   ]
  },
  {
   "cell_type": "code",
   "execution_count": 22,
   "metadata": {
    "collapsed": false
   },
   "outputs": [
    {
     "data": {
      "image/png": "[encoded data removed]",
      "text/plain": [
       "PyPlot.Figure(PyObject <matplotlib.figure.Figure object at 0x322bbf710>)"
      ]
     },
     "metadata": {},
     "output_type": "display_data"
    },
    {
     "data": {
      "text/plain": [
       "1-element Array{Any,1}:\n",
       " PyObject <matplotlib.lines.Line2D object at 0x3229b4d68>"
      ]
     },
     "execution_count": 22,
     "metadata": {},
     "output_type": "execute_result"
    }
   ],
   "source": [
    "using PyPlot\n",
    "\n",
    "plot(get_seconds(k1))"
   ]
  },
  {
   "cell_type": "markdown",
   "metadata": {},
   "source": [
    "たまたまの可能性がありますがDAアルゴリズムの計算量$n^2$を表してるように見えなくもない(?). \n",
    "再帰なし版だと..."
   ]
  },
  {
   "cell_type": "code",
   "execution_count": 13,
   "metadata": {
    "collapsed": false
   },
   "outputs": [
    {
     "name": "stdout",
     "output_type": "stream",
     "text": [
      "  0.000931 seconds (14.01 k allocations: 750.563 KB)\n",
      "  0.000957 seconds (18.02 k allocations: 985.500 KB)\n",
      "  0.001312 seconds (24.02 k allocations: 1.299 MB)\n",
      "  0.001952 seconds (35.03 k allocations: 2.001 MB)\n",
      "  0.002749 seconds (46.03 k allocations: 2.719 MB)\n",
      "  0.003422 seconds (56.04 k allocations: 3.636 MB)\n",
      "  0.004385 seconds (63.05 k allocations: 4.048 MB)\n",
      "  0.007769 seconds (63.05 k allocations: 4.630 MB, 49.62% gc time)\n",
      "  0.004949 seconds (71.06 k allocations: 5.210 MB)\n",
      "  0.004288 seconds (65.06 k allocations: 5.258 MB)\n",
      "  0.006425 seconds (85.07 k allocations: 6.617 MB)\n",
      "  0.007728 seconds (74.08 k allocations: 6.481 MB, 31.38% gc time)\n",
      "  0.007383 seconds (105.08 k allocations: 9.336 MB)\n",
      "  0.015663 seconds (160.09 k allocations: 14.709 MB, 20.79% gc time)\n",
      "  0.022754 seconds (169.09 k allocations: 15.610 MB, 29.25% gc time)\n",
      "  0.019703 seconds (198.10 k allocations: 19.336 MB)\n",
      "  0.019738 seconds (134.10 k allocations: 13.691 MB, 28.81% gc time)\n",
      "  0.022365 seconds (181.11 k allocations: 18.851 MB, 24.45% gc time)\n",
      "  0.033865 seconds (245.12 k allocations: 25.673 MB, 16.76% gc time)\n",
      "  0.030471 seconds (244.12 k allocations: 27.248 MB, 17.19% gc time)\n",
      "  0.046028 seconds (262.13 k allocations: 29.965 MB, 25.92% gc time)\n",
      "  0.024981 seconds (201.13 k allocations: 23.926 MB, 21.84% gc time)\n",
      "  0.035885 seconds (296.14 k allocations: 35.082 MB, 16.36% gc time)\n",
      "  0.062064 seconds (410.15 k allocations: 63.610 MB, 24.60% gc time)\n",
      "  0.051262 seconds (316.15 k allocations: 48.902 MB, 29.87% gc time)\n",
      "  0.024780 seconds (172.16 k allocations: 27.786 MB, 25.54% gc time)\n",
      "  0.039818 seconds (293.17 k allocations: 46.725 MB, 25.64% gc time)\n",
      "  0.074092 seconds (453.17 k allocations: 67.174 MB, 20.40% gc time)\n",
      "  0.097192 seconds (515.18 k allocations: 78.498 MB, 22.08% gc time)\n",
      "  0.056652 seconds (370.18 k allocations: 59.198 MB, 18.52% gc time)\n",
      "  0.066648 seconds (368.19 k allocations: 57.338 MB, 26.43% gc time)\n",
      "  0.072351 seconds (404.19 k allocations: 74.438 MB, 23.31% gc time)\n",
      "  0.072605 seconds (383.20 k allocations: 71.191 MB, 28.22% gc time)\n",
      "  0.103042 seconds (535.21 k allocations: 96.584 MB, 23.62% gc time)\n",
      "  0.198075 seconds (765.21 k allocations: 139.647 MB, 21.58% gc time)\n",
      "  0.087888 seconds (421.22 k allocations: 74.342 MB, 25.63% gc time)\n",
      "  0.128518 seconds (531.23 k allocations: 99.827 MB, 21.67% gc time)\n",
      "  0.176163 seconds (554.23 k allocations: 102.744 MB, 20.51% gc time)\n",
      "  0.189753 seconds (697.24 k allocations: 122.507 MB, 19.74% gc time)\n",
      "  0.149114 seconds (729.24 k allocations: 146.580 MB, 22.64% gc time)\n"
     ]
    }
   ],
   "source": [
    "for i in 1:40\n",
    "    @time speedtest1(1*i, 1*i, 1000, false)\n",
    "end"
   ]
  },
  {
   "cell_type": "code",
   "execution_count": 21,
   "metadata": {
    "collapsed": false
   },
   "outputs": [
    {
     "data": {
      "image/png": "[encoded data removed]",
      "text/plain": [
       "PyPlot.Figure(PyObject <matplotlib.figure.Figure object at 0x3210b81d0>)"
      ]
     },
     "metadata": {},
     "output_type": "display_data"
    }
   ],
   "source": [
    "k2 = \" 0.000931 seconds (14.01 k allocations: 750.563 KB)\n",
    "  0.000957 seconds (18.02 k allocations: 985.500 KB)\n",
    "  0.001312 seconds (24.02 k allocations: 1.299 MB)\n",
    "  0.001952 seconds (35.03 k allocations: 2.001 MB)\n",
    "  0.002749 seconds (46.03 k allocations: 2.719 MB)\n",
    "  0.003422 seconds (56.04 k allocations: 3.636 MB)\n",
    "  0.004385 seconds (63.05 k allocations: 4.048 MB)\n",
    "  0.007769 seconds (63.05 k allocations: 4.630 MB, 49.62% gc time)\n",
    "  0.004949 seconds (71.06 k allocations: 5.210 MB)\n",
    "  0.004288 seconds (65.06 k allocations: 5.258 MB)\n",
    "  0.006425 seconds (85.07 k allocations: 6.617 MB)\n",
    "  0.007728 seconds (74.08 k allocations: 6.481 MB, 31.38% gc time)\n",
    "  0.007383 seconds (105.08 k allocations: 9.336 MB)\n",
    "  0.015663 seconds (160.09 k allocations: 14.709 MB, 20.79% gc time)\n",
    "  0.022754 seconds (169.09 k allocations: 15.610 MB, 29.25% gc time)\n",
    "  0.019703 seconds (198.10 k allocations: 19.336 MB)\n",
    "  0.019738 seconds (134.10 k allocations: 13.691 MB, 28.81% gc time)\n",
    "  0.022365 seconds (181.11 k allocations: 18.851 MB, 24.45% gc time)\n",
    "  0.033865 seconds (245.12 k allocations: 25.673 MB, 16.76% gc time)\n",
    "  0.030471 seconds (244.12 k allocations: 27.248 MB, 17.19% gc time)\n",
    "  0.046028 seconds (262.13 k allocations: 29.965 MB, 25.92% gc time)\n",
    "  0.024981 seconds (201.13 k allocations: 23.926 MB, 21.84% gc time)\n",
    "  0.035885 seconds (296.14 k allocations: 35.082 MB, 16.36% gc time)\n",
    "  0.062064 seconds (410.15 k allocations: 63.610 MB, 24.60% gc time)\n",
    "  0.051262 seconds (316.15 k allocations: 48.902 MB, 29.87% gc time)\n",
    "  0.024780 seconds (172.16 k allocations: 27.786 MB, 25.54% gc time)\n",
    "  0.039818 seconds (293.17 k allocations: 46.725 MB, 25.64% gc time)\n",
    "  0.074092 seconds (453.17 k allocations: 67.174 MB, 20.40% gc time)\n",
    "  0.097192 seconds (515.18 k allocations: 78.498 MB, 22.08% gc time)\n",
    "  0.056652 seconds (370.18 k allocations: 59.198 MB, 18.52% gc time)\n",
    "  0.066648 seconds (368.19 k allocations: 57.338 MB, 26.43% gc time)\n",
    "  0.072351 seconds (404.19 k allocations: 74.438 MB, 23.31% gc time)\n",
    "  0.072605 seconds (383.20 k allocations: 71.191 MB, 28.22% gc time)\n",
    "  0.103042 seconds (535.21 k allocations: 96.584 MB, 23.62% gc time)\n",
    "  0.198075 seconds (765.21 k allocations: 139.647 MB, 21.58% gc time)\n",
    "  0.087888 seconds (421.22 k allocations: 74.342 MB, 25.63% gc time)\n",
    "  0.128518 seconds (531.23 k allocations: 99.827 MB, 21.67% gc time)\n",
    "  0.176163 seconds (554.23 k allocations: 102.744 MB, 20.51% gc time)\n",
    "  0.189753 seconds (697.24 k allocations: 122.507 MB, 19.74% gc time)\n",
    "  0.149114 seconds (729.24 k allocations: 146.580 MB, 22.64% gc time)\"\n",
    "\n",
    "plot(get_seconds(k2))\n",
    "legend()"
   ]
  },
  {
   "cell_type": "markdown",
   "metadata": {},
   "source": [
    "simple版でも測度を計測します."
   ]
  },
  {
   "cell_type": "code",
   "execution_count": 3,
   "metadata": {
    "collapsed": false
   },
   "outputs": [
    {
     "data": {
      "text/plain": [
       "speedtest2 (generic function with 1 method)"
      ]
     },
     "execution_count": 3,
     "metadata": {},
     "output_type": "execute_result"
    }
   ],
   "source": [
    "function speedtest2(m, n, l)\n",
    "    m_prefs, f_prefs = DA.generate_random_preference_data(m, n)\n",
    "    for i in 1:l\n",
    "        DA.call_simple_match(m_prefs, f_prefs)\n",
    "    end\n",
    "end"
   ]
  },
  {
   "cell_type": "code",
   "execution_count": 25,
   "metadata": {
    "collapsed": false
   },
   "outputs": [
    {
     "name": "stdout",
     "output_type": "stream",
     "text": [
      "  0.014245 seconds (135.07 k allocations: 11.316 MB, 38.51% gc time)\n",
      "  0.240136 seconds (1.80 M allocations: 479.303 MB, 13.51% gc time)\n",
      "  1.246197 seconds (4.97 M allocations: 2.110 GB, 26.12% gc time)\n",
      "  3.106522 seconds (7.13 M allocations: 4.570 GB, 38.96% gc time)\n",
      "  8.143171 seconds (14.36 M allocations: 12.194 GB, 39.38% gc time)\n",
      " 10.232993 seconds (16.44 M allocations: 16.173 GB, 32.66% gc time)\n",
      " 16.158505 seconds (24.54 M allocations: 28.712 GB, 30.88% gc time)\n"
     ]
    }
   ],
   "source": [
    "@time speedtest2(10, 10, 1000)\n",
    "@time speedtest2(50, 50, 1000)\n",
    "@time speedtest2(100, 100, 1000)\n",
    "@time speedtest2(150, 150, 1000)\n",
    "@time speedtest2(200, 200, 1000)\n",
    "@time speedtest2(250, 250, 1000)\n",
    "@time speedtest2(300, 300, 1000)"
   ]
  },
  {
   "cell_type": "markdown",
   "metadata": {},
   "source": [
    " 再帰なし普通版だと以下のようになるので,"
   ]
  },
  {
   "cell_type": "code",
   "execution_count": 26,
   "metadata": {
    "collapsed": false
   },
   "outputs": [
    {
     "name": "stdout",
     "output_type": "stream",
     "text": [
      "  0.012600 seconds (92.07 k allocations: 7.043 MB, 30.42% gc time)\n",
      "  0.119666 seconds (787.31 k allocations: 201.074 MB, 9.79% gc time)\n",
      "  0.679825 seconds (2.23 M allocations: 927.489 MB, 21.45% gc time)\n",
      "  1.786538 seconds (3.14 M allocations: 1.890 GB, 30.68% gc time)\n",
      "  3.544882 seconds (5.64 M allocations: 4.535 GB, 32.97% gc time)\n",
      "  6.438534 seconds (8.78 M allocations: 8.235 GB, 26.43% gc time)\n",
      "  8.091873 seconds (9.68 M allocations: 10.706 GB, 22.88% gc time)\n"
     ]
    }
   ],
   "source": [
    "@time speedtest1(10, 10, 1000, false)\n",
    "@time speedtest1(50, 50, 1000, false)\n",
    "@time speedtest1(100, 100, 1000, false)\n",
    "@time speedtest1(150, 150, 1000, false)\n",
    "@time speedtest1(200, 200, 1000, false)\n",
    "@time speedtest1(250, 250, 1000, false)\n",
    "@time speedtest1(300, 300, 1000, false)"
   ]
  },
  {
   "cell_type": "markdown",
   "metadata": {},
   "source": [
    " シンプル版は少しだけ遅いようです."
   ]
  },
  {
   "cell_type": "code",
   "execution_count": 27,
   "metadata": {
    "collapsed": false
   },
   "outputs": [
    {
     "data": {
      "image/png": "[encoded data removed]",
      "text/plain": [
       "PyPlot.Figure(PyObject <matplotlib.figure.Figure object at 0x322c139b0>)"
      ]
     },
     "metadata": {},
     "output_type": "display_data"
    }
   ],
   "source": [
    "plot(get_seconds(\"0.014245 seconds (135.07 k allocations: 11.316 MB, 38.51% gc time)\n",
    "  0.240136 seconds (1.80 M allocations: 479.303 MB, 13.51% gc time)\n",
    "  1.246197 seconds (4.97 M allocations: 2.110 GB, 26.12% gc time)\n",
    "  3.106522 seconds (7.13 M allocations: 4.570 GB, 38.96% gc time)\n",
    "  8.143171 seconds (14.36 M allocations: 12.194 GB, 39.38% gc time)\n",
    " 10.232993 seconds (16.44 M allocations: 16.173 GB, 32.66% gc time)\n",
    " 16.158505 seconds (24.54 M allocations: 28.712 GB, 30.88% gc time)\"))\n",
    "plot(get_seconds(\"  0.012600 seconds (92.07 k allocations: 7.043 MB, 30.42% gc time)\n",
    "  0.119666 seconds (787.31 k allocations: 201.074 MB, 9.79% gc time)\n",
    "  0.679825 seconds (2.23 M allocations: 927.489 MB, 21.45% gc time)\n",
    "  1.786538 seconds (3.14 M allocations: 1.890 GB, 30.68% gc time)\n",
    "  3.544882 seconds (5.64 M allocations: 4.535 GB, 32.97% gc time)\n",
    "  6.438534 seconds (8.78 M allocations: 8.235 GB, 26.43% gc time)\n",
    "  8.091873 seconds (9.68 M allocations: 10.706 GB, 22.88% gc time)\"))\n",
    "legend()"
   ]
  },
  {
   "cell_type": "markdown",
   "metadata": {
    "collapsed": true
   },
   "source": [
    "要因としては, simple版だとmaleひとりごとにwhileループを回しているのに対し, 通常版だとmale数人をまとめてwhileループを回すのでいくらか重複をなくすことができるからというのが考えられます."
   ]
  },
  {
   "cell_type": "code",
   "execution_count": null,
   "metadata": {
    "collapsed": true
   },
   "outputs": [],
   "source": []
  }
 ],
 "metadata": {
  "kernelspec": {
   "display_name": "Julia 0.4.5",
   "language": "julia",
   "name": "julia-0.4"
  },
  "language_info": {
   "file_extension": ".jl",
   "mimetype": "application/julia",
   "name": "julia",
   "version": "0.4.5"
  }
 },
 "nbformat": 4,
 "nbformat_minor": 0
}
