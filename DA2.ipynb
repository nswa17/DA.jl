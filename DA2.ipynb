{
 "cells": [
  {
   "cell_type": "code",
   "execution_count": 1,
   "metadata": {
    "collapsed": false
   },
   "outputs": [
    {
     "data": {
      "text/plain": [
       "DA"
      ]
     },
     "execution_count": 1,
     "metadata": {},
     "output_type": "execute_result"
    }
   ],
   "source": [
    "include(\"da.jl\")"
   ]
  },
  {
   "cell_type": "code",
   "execution_count": 2,
   "metadata": {
    "collapsed": false
   },
   "outputs": [
    {
     "data": {
      "text/plain": [
       "call_match (generic function with 2 methods)"
      ]
     },
     "execution_count": 2,
     "metadata": {},
     "output_type": "execute_result"
    }
   ],
   "source": [
    "deferred_acceptance = DA.call_match"
   ]
  },
  {
   "cell_type": "code",
   "execution_count": 3,
   "metadata": {
    "collapsed": false,
    "scrolled": true
   },
   "outputs": [
    {
     "data": {
      "text/plain": [
       "([1,2],[1,2])"
      ]
     },
     "execution_count": 3,
     "metadata": {},
     "output_type": "execute_result"
    }
   ],
   "source": [
    "DA.call_match([1 2; 2 1; 0 0], [1 2; 2 1; 0 0])"
   ]
  },
  {
   "cell_type": "code",
   "execution_count": 4,
   "metadata": {
    "collapsed": false
   },
   "outputs": [
    {
     "data": {
      "text/plain": [
       "false"
      ]
     },
     "execution_count": 4,
     "metadata": {},
     "output_type": "execute_result"
    }
   ],
   "source": [
    "DA.stable_matching([1, 2], [1, 2], [1, 2, 3], [2 1; 1 2; 0 0], [2 1; 1 2; 0 0])"
   ]
  },
  {
   "cell_type": "code",
   "execution_count": 5,
   "metadata": {
    "collapsed": false
   },
   "outputs": [
    {
     "data": {
      "text/plain": [
       "([1,2],[1,2],[1,2,3])"
      ]
     },
     "execution_count": 5,
     "metadata": {},
     "output_type": "execute_result"
    }
   ],
   "source": [
    "DA.call_match([1 2; 2 1; 0 0], [1 2; 2 1; 0 0], [1, 1])"
   ]
  },
  {
   "cell_type": "code",
   "execution_count": 6,
   "metadata": {
    "collapsed": false
   },
   "outputs": [
    {
     "data": {
      "text/plain": [
       "3-element Array{Int64,1}:\n",
       " 1\n",
       " 1\n",
       " 1"
      ]
     },
     "execution_count": 6,
     "metadata": {},
     "output_type": "execute_result"
    }
   ],
   "source": [
    "m_prefs = [1 3 2 3;\n",
    "                   2 1 3 1;\n",
    "                   3 2 1 2;\n",
    "                   0 0 0 0]\n",
    "f_prefs = [3 1 3;\n",
    "           1 2 0;\n",
    "           2 3 2;\n",
    "           4 4 1;\n",
    "           0 0 4]\n",
    "caps = [1, 1, 1]"
   ]
  },
  {
   "cell_type": "code",
   "execution_count": 7,
   "metadata": {
    "collapsed": false
   },
   "outputs": [
    {
     "data": {
      "text/plain": [
       "([1,2,3,0],[1,2,3],[1,2,3,4])"
      ]
     },
     "execution_count": 7,
     "metadata": {},
     "output_type": "execute_result"
    }
   ],
   "source": [
    "m_matched, f_matched, indptr = DA.call_match(m_prefs, f_prefs, caps)"
   ]
  },
  {
   "cell_type": "code",
   "execution_count": 8,
   "metadata": {
    "collapsed": false
   },
   "outputs": [
    {
     "data": {
      "text/plain": [
       "true"
      ]
     },
     "execution_count": 8,
     "metadata": {},
     "output_type": "execute_result"
    }
   ],
   "source": [
    "DA.stable_matching(m_matched, f_matched, indptr, m_prefs, f_prefs)"
   ]
  },
  {
   "cell_type": "code",
   "execution_count": 9,
   "metadata": {
    "collapsed": false
   },
   "outputs": [
    {
     "name": "stdout",
     "output_type": "stream",
     "text": [
      "deferred_acceptance: many-to-one: Test Failed\n"
     ]
    },
    {
     "name": "stderr",
     "output_type": "stream",
     "text": [
      "WARNING: replacing module DA\n"
     ]
    },
    {
     "name": "stdout",
     "output_type": "stream",
     "text": [
      "  Expression: c_matched_computed == c_matched_expected\n",
      "   Evaluated: [2,8,10,5,7,1,4,6,3,9,11] == [2,5,8,10,7,1,4,6,3,9,11]\n",
      " in record at /Users/neon/.julia/v0.4/BaseTestNext/src/BaseTestNext.jl:320\n",
      " in do_test at /Users/neon/.julia/v0.4/BaseTestNext/src/BaseTestNext.jl:192\n",
      " [inlined code] from /Users/neon/Desktop/S/zemi/DA_alg.jl/test_deferred_acceptance.jl:115\n",
      " in anonymous at no file:0\n",
      " in include at /Applications/Julia-0.4.5 2.app/Contents/Resources/julia/lib/julia/sys.dylib\n",
      " in include_from_node1 at /Applications/Julia-0.4.5 2.app/Contents/Resources/julia/lib/julia/sys.dylib\n",
      " in include_string at loading.jl:282\n",
      " in execute_request_0x535c5df2 at /Users/neon/.julia/v0.4/IJulia/src/execute_request.jl:183\n",
      " in eventloop at /Users/neon/.julia/v0.4/IJulia/src/IJulia.jl:143\n",
      " in anonymous at task.jl:447\n",
      "Test Summary:                                  | Pass  Fail  Total\n",
      "Testing DA.jl                                  |    9     1     10\n",
      "  deferred_acceptance: one-to-one              |    4            4\n",
      "  deferred_acceptance: many-to-one with caps 1 |    3            3\n",
      "  deferred_acceptance: many-to-one             |    2     1      3\n"
     ]
    },
    {
     "ename": "LoadError",
     "evalue": "LoadError: LoadError: Some tests did not pass: 9 passed, 1 failed, 0 errored.\nwhile loading /Users/neon/Desktop/S/zemi/DA_alg.jl/test_deferred_acceptance.jl, in expression starting on line 17\nwhile loading In[9], in expression starting on line 1",
     "output_type": "error",
     "traceback": [
      "LoadError: LoadError: Some tests did not pass: 9 passed, 1 failed, 0 errored.\nwhile loading /Users/neon/Desktop/S/zemi/DA_alg.jl/test_deferred_acceptance.jl, in expression starting on line 17\nwhile loading In[9], in expression starting on line 1",
      "",
      " in finish at /Users/neon/.julia/v0.4/BaseTestNext/src/BaseTestNext.jl:385",
      " [inlined code] from /Users/neon/.julia/v0.4/BaseTestNext/src/BaseTestNext.jl:559",
      " in anonymous at no file:0",
      " in include at /Applications/Julia-0.4.5 2.app/Contents/Resources/julia/lib/julia/sys.dylib",
      " in include_from_node1 at /Applications/Julia-0.4.5 2.app/Contents/Resources/julia/lib/julia/sys.dylib"
     ]
    }
   ],
   "source": [
    "include(\"test_deferred_acceptance.jl\")"
   ]
  },
  {
   "cell_type": "code",
   "execution_count": 10,
   "metadata": {
    "collapsed": false
   },
   "outputs": [
    {
     "data": {
      "text/plain": [
       "5-element Array{Int64,1}:\n",
       " 4\n",
       " 1\n",
       " 3\n",
       " 2\n",
       " 1"
      ]
     },
     "execution_count": 10,
     "metadata": {},
     "output_type": "execute_result"
    }
   ],
   "source": [
    " s_prefs = [3, 1, 5, 4, 0, 2,\n",
    "                   1, 3, 4, 2, 5, 0,\n",
    "                   4, 5, 3, 1, 2, 0,\n",
    "                   3, 4, 1, 5, 0, 2,\n",
    "                   1, 4, 2, 0, 3, 5,\n",
    "                   4, 3, 2, 1, 5, 0,\n",
    "                   2, 5, 1, 3, 0, 4,\n",
    "                   1, 3, 2, 5, 4, 0,\n",
    "                   4, 1, 5, 0, 2, 3,\n",
    "                   3, 1, 5, 2, 4, 0,\n",
    "                   5, 4, 1, 3, 2, 0]\n",
    "        s_prefs = reshape(s_prefs, 6, 11)\n",
    "\n",
    "        # Colleges' preference orders over students 1, ..., 11 and unmatched 0\n",
    "        c_prefs = [3, 7, 9, 11, 5, 4, 10, 8, 6, 1,\n",
    "                   2, 0, 5, 7, 10, 6, 8, 2, 3, 11,\n",
    "                   0, 1, 4, 9, 11, 6, 8, 3, 2, 4,\n",
    "                   7, 1, 10, 0, 5, 9, 10, 1, 2, 11,\n",
    "                   4, 9, 5, 3, 6, 8, 0, 7, 2, 4,\n",
    "                   10, 7, 6, 1, 8, 3, 11, 9, 0, 5]\n",
    "        c_prefs = reshape(c_prefs, 12, 5)\n",
    "\n",
    "        # Capacities for colleges\n",
    "        caps = [4, 1, 3, 2, 1]"
   ]
  },
  {
   "cell_type": "code",
   "execution_count": 11,
   "metadata": {
    "collapsed": false
   },
   "outputs": [
    {
     "data": {
      "text/plain": [
       "([3,1,4,3,1,3,2,1,4,1,5],[2,8,10,5,7,1,4,6,3,9,11],[1,5,6,9,11,12])"
      ]
     },
     "execution_count": 11,
     "metadata": {},
     "output_type": "execute_result"
    }
   ],
   "source": [
    "m_matched, f_matched, indptr = DA.call_match(s_prefs, c_prefs, caps)"
   ]
  },
  {
   "cell_type": "code",
   "execution_count": 12,
   "metadata": {
    "collapsed": false
   },
   "outputs": [
    {
     "data": {
      "text/plain": [
       "true"
      ]
     },
     "execution_count": 12,
     "metadata": {},
     "output_type": "execute_result"
    }
   ],
   "source": [
    "DA.stable_matching(m_matched, f_matched, indptr, s_prefs, c_prefs)"
   ]
  },
  {
   "cell_type": "code",
   "execution_count": 18,
   "metadata": {
    "collapsed": false
   },
   "outputs": [
    {
     "data": {
      "text/plain": [
       "test (generic function with 1 method)"
      ]
     },
     "execution_count": 18,
     "metadata": {},
     "output_type": "execute_result"
    }
   ],
   "source": [
    "function test(n, l)\n",
    "    for i in 1:l\n",
    "        m_prefs, f_prefs = DA.generate_random_preference_data(n, n)\n",
    "        caps = ones(Int, n)\n",
    "        m_matched, f_matched, indptr = DA.call_match(m_prefs, f_prefs, caps)\n",
    "        if !DA.stable_matching(m_matched, f_matched, indptr, m_prefs, f_prefs)\n",
    "            println(\"m_prefs = \", m_prefs)\n",
    "            println(\"f_prefs = \", f_prefs)\n",
    "            println(\"m_matched = \", m_matched)\n",
    "            println(\"f_matched = \", f_matched)\n",
    "            println(\"indptr = \", indptr)\n",
    "        end\n",
    "    end\n",
    "end"
   ]
  },
  {
   "cell_type": "code",
   "execution_count": 19,
   "metadata": {
    "collapsed": false
   },
   "outputs": [],
   "source": [
    "test(20, 100)"
   ]
  },
  {
   "cell_type": "code",
   "execution_count": 27,
   "metadata": {
    "collapsed": false
   },
   "outputs": [
    {
     "data": {
      "text/plain": [
       "speedtest (generic function with 2 methods)"
      ]
     },
     "execution_count": 27,
     "metadata": {},
     "output_type": "execute_result"
    }
   ],
   "source": [
    "function speedtest(l, args...)\n",
    "    for i in 1:l\n",
    "        DA.call_match(args...)\n",
    "    end\n",
    "end"
   ]
  },
  {
   "cell_type": "code",
   "execution_count": 29,
   "metadata": {
    "collapsed": false
   },
   "outputs": [
    {
     "name": "stdout",
     "output_type": "stream",
     "text": [
      "  0.029542 seconds (16.96 k allocations: 15.731 MB)\n",
      "  0.021472 seconds (4.99 k allocations: 15.458 MB, 11.95% gc time)\n",
      "  0.021291 seconds (14.99 k allocations: 15.701 MB, 8.69% gc time)\n",
      "  0.020791 seconds (4.99 k allocations: 15.458 MB)\n",
      "  0.025938 seconds (15.47 k allocations: 15.708 MB, 6.37% gc time)\n",
      "  0.037192 seconds (4.99 k allocations: 15.458 MB, 35.46% gc time)\n",
      "  0.053767 seconds (16.93 k allocations: 15.731 MB)\n",
      "  0.071375 seconds (4.99 k allocations: 15.458 MB, 4.48% gc time)\n",
      "  0.032352 seconds (14.50 k allocations: 15.693 MB, 3.88% gc time)\n",
      "  0.029589 seconds (4.99 k allocations: 15.458 MB)\n",
      "  0.026079 seconds (16.25 k allocations: 15.720 MB, 6.49% gc time)\n",
      "  0.142328 seconds (4.99 k allocations: 15.458 MB, 60.69% gc time)\n",
      "  0.023518 seconds (16.19 k allocations: 15.719 MB)\n",
      "  0.021794 seconds (4.99 k allocations: 15.458 MB, 9.63% gc time)\n",
      "  0.028518 seconds (16.19 k allocations: 15.719 MB, 3.23% gc time)\n",
      "  0.026907 seconds (4.99 k allocations: 15.458 MB)\n",
      "  0.021350 seconds (15.61 k allocations: 15.710 MB, 4.39% gc time)\n",
      "  0.030087 seconds (4.99 k allocations: 15.458 MB, 41.26% gc time)\n",
      "  0.061642 seconds (14.57 k allocations: 15.695 MB)\n",
      "  0.045271 seconds (4.99 k allocations: 15.458 MB, 8.69% gc time)\n"
     ]
    }
   ],
   "source": [
    "for i in 1:10\n",
    "    n = 1000\n",
    "    m_prefs, f_prefs = DA.generate_random_preference_data(n, n)\n",
    "    caps = ones(Int, n)\n",
    "    @time speedtest(1, m_prefs, f_prefs, caps)\n",
    "    @time speedtest(1, m_prefs, f_prefs)\n",
    "end"
   ]
  },
  {
   "cell_type": "code",
   "execution_count": null,
   "metadata": {
    "collapsed": true
   },
   "outputs": [],
   "source": []
  }
 ],
 "metadata": {
  "kernelspec": {
   "display_name": "Julia 0.4.5",
   "language": "julia",
   "name": "julia-0.4"
  },
  "language_info": {
   "file_extension": ".jl",
   "mimetype": "application/julia",
   "name": "julia",
   "version": "0.4.5"
  }
 },
 "nbformat": 4,
 "nbformat_minor": 0
}
