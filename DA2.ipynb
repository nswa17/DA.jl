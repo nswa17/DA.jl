{
 "cells": [
  {
   "cell_type": "code",
   "execution_count": 13,
   "metadata": {
    "collapsed": false
   },
   "outputs": [
    {
     "name": "stderr",
     "output_type": "stream",
     "text": [
      "WARNING: replacing module DA\n"
     ]
    },
    {
     "data": {
      "text/plain": [
       "DA"
      ]
     },
     "execution_count": 13,
     "metadata": {},
     "output_type": "execute_result"
    }
   ],
   "source": [
    "include(\"da.jl\")"
   ]
  },
  {
   "cell_type": "code",
   "execution_count": 2,
   "metadata": {
    "collapsed": true
   },
   "outputs": [],
   "source": [
    "#;cat \"da.jl\""
   ]
  },
  {
   "cell_type": "code",
   "execution_count": 14,
   "metadata": {
    "collapsed": false
   },
   "outputs": [
    {
     "data": {
      "text/plain": [
       "(\n",
       "101x100 Array{Int64,2}:\n",
       " 36  78  26  54  88  81  37  59  10  …  74  44  94  21  27  85  21   4  25\n",
       " 78  66  98  49  57  32  90  77  72     98  27  36  49  22  41  47  47  97\n",
       " 11   4  79  70  65  69  10  53   3     78  29  85  20  96  80  15  88  27\n",
       "  5  76  81  71  53  17  93  97  55      0  87  27  36  95  46  96  61  83\n",
       " 76   2  96  89  64  37  85  22  24     88  19  64  59  37  31  45  21  24\n",
       " 81  52  99  91  61  71  88  93  49  …  76   6  18  47  44  56  56  44   3\n",
       " 85  26  22  58  78  13  20  30   5     62  12  68  90  75  42   2  36  63\n",
       "  8  94  68  80  96   6  84  94   7     86  43  50  84  56  44  65  71  51\n",
       " 32  55  52  15  79  34  59  64  43     47  38  26  96  52  14  29  32   9\n",
       " 35  91  41  69  62  38  52  88  15     56  74  57  27  13  39   7  35  82\n",
       " 37  29  17  28  77  19  61  80  77  …  13  88  98  53  16  71  48   2  76\n",
       " 22  57  56   3  24  89  49  20  90     95  90  88  42   5  18  51  66  86\n",
       " 62  75  77  13  70   3   5  84   8     93   9  44  19  26  28  73  50  21\n",
       "  ⋮                   ⋮              ⋱                   ⋮                \n",
       " 73  37  14  11  14  48  21  26  28     51  57   0  57  85  43  90  46  74\n",
       " 61   1   4  77  43  85  51  49  71  …   1  78  15  67  45  73  77  29  84\n",
       " 54  22  39  31  19  87  87  90  34      3  59  31  14  12  79   1  62   4\n",
       " 70  27  64  56  92  52  32  34  89     38   0  77  77  59  99   6   3  42\n",
       " 90  21  47  55  67  95  76  27  20     75  46  11  58  86  78  66  75  67\n",
       " 64  41  76  99  25  55   9  67  47     71  25  99  98  84  83  22  48  89\n",
       " 82  83  33  20  27  45  35  45  19  …  37  30  14  26  53  35  52  93  65\n",
       " 68  82  29   0  42  44  24  72  66      8  82  97  74  55  25  92  81  41\n",
       " 67  93  59  64  59  84  86   9  25     45  69  72  83  43   0  27  83  18\n",
       " 40  60  36  21  47  22  11  76  58     42   2  96  78  35  84  30  85  13\n",
       " 59   6  44  83  11  39  94  15  13     96  73   3  52  70   3   3  82  43\n",
       " 33  48  30  59  71   2  41  43  17  …  39  24  67  29  14   8   9  56  75,\n",
       "\n",
       "101x100 Array{Int64,2}:\n",
       " 100  91  35  54  66  94  62  86  41  …   5  17  27  54  15  46  78  12  70\n",
       "  61  14  64  16  30  20  73  14   6     66  15   7  34  27  31  55  49   0\n",
       "  37  64  77   5  68  16  23  34  35     68  88  65  19  40  91  95  15  92\n",
       "  80  99  13  97  89   7  36  78  94     47  43  89  47  50  75   3  75  54\n",
       "  67  28  29  13  61  14  70  90  24     94  19  78  64  65  81  36  19  69\n",
       "  49  83  94  17  82  33  12  75   7  …  52  25  80  98  35  16  21  76  96\n",
       "  28  40  15  55  42  13  91  38  99      6  83  51  17  19  97  81  34  16\n",
       "  51  22  68  70   6  47  24   4  66     97  38  62  99  54  71  90  88  22\n",
       "  58  35  30  75  92  66  28  58  49     15  73  30   0  11   4  34  41  98\n",
       "  20  46  53  51  91  56  65  73  48     54  30  32   6  84  21  63   2  72\n",
       "  94  76  82  71   0  85  54  19  65  …  49  84  42  18  22  85  60  80  60\n",
       "  98  82  50  67  20  95  93  96  16     78  23  69  63  14  10  24  13  71\n",
       "  38  15  58  61  17  61  83  59  53     63  44  91  56  76   5  18  30  25\n",
       "   ⋮                   ⋮              ⋱                   ⋮                \n",
       "  21  72  22  34   7  65  48  89  74     64  67  39  31  39  61  94  54  28\n",
       "  59  70  28  46  44  38  33  81  51  …  18  92  11  11  85   3  28   9  73\n",
       "  17  52  23  88  98  12  84  91  40     92  63  25  23  36   9  68  70  88\n",
       "  85  88   9  20  31  78  67  35  17     11  28  85  69  68  52  43  40  26\n",
       "  68  17  51  40  77  54  52  26   4     72  31  44  30  30  34  75  37   8\n",
       "   8  18  11  86  81  22   9  41  22     40  49  90  32  57  59  93  84  52\n",
       "  66  54  73   8  39  10  14  30  72  …  70  13  83  97   0  98  16  31  34\n",
       "   6   8   8  62  58   8  25  10   9     44  36  36  83  58  55   9  82  21\n",
       "  82  67  85  63  12  41  75  37  46     12  20  54  44  79  84  11   8  58\n",
       "  53  79   2  29  36   5  63  21  98     39  65  48  62  75  94  48  87  67\n",
       "  14   2  72  77  21  51  18  31  71     41  58   2  38  18  20  56   1  14\n",
       "  92  75  80  89  80  64  34  66  14  …  38  76  45  81  23  36  77  50  61)"
      ]
     },
     "execution_count": 14,
     "metadata": {},
     "output_type": "execute_result"
    }
   ],
   "source": [
    "m, n = 100, 100\n",
    "m_prefs, f_prefs = DA.generate_random_preference_data(m, n)"
   ]
  },
  {
   "cell_type": "code",
   "execution_count": 15,
   "metadata": {
    "collapsed": false
   },
   "outputs": [
    {
     "data": {
      "text/plain": [
       "true"
      ]
     },
     "execution_count": 15,
     "metadata": {},
     "output_type": "execute_result"
    }
   ],
   "source": [
    "DA.call_match(m, n, m_prefs, f_prefs)\n",
    "DA.check_data(m, n, m_prefs, f_prefs)"
   ]
  },
  {
   "cell_type": "code",
   "execution_count": 16,
   "metadata": {
    "collapsed": false
   },
   "outputs": [
    {
     "data": {
      "text/plain": [
       "test1 (generic function with 1 method)"
      ]
     },
     "execution_count": 16,
     "metadata": {},
     "output_type": "execute_result"
    }
   ],
   "source": [
    "function test1(m, n, l, rec)\n",
    "    for i in 1:l\n",
    "        m_prefs, f_prefs = DA.generate_random_preference_data(m, n)\n",
    "        DA.call_match(m, n, m_prefs, f_prefs, rec)\n",
    "    end\n",
    "end"
   ]
  },
  {
   "cell_type": "code",
   "execution_count": 21,
   "metadata": {
    "collapsed": false
   },
   "outputs": [
    {
     "name": "stdout",
     "output_type": "stream",
     "text": [
      "  0.033887 seconds (136.82 k allocations: 14.719 MB)\n"
     ]
    }
   ],
   "source": [
    "@time test1(10, 10, 1000, true)"
   ]
  },
  {
   "cell_type": "code",
   "execution_count": 24,
   "metadata": {
    "collapsed": false
   },
   "outputs": [
    {
     "name": "stdout",
     "output_type": "stream",
     "text": [
      "  0.016567 seconds (101.83 k allocations: 11.979 MB)\n"
     ]
    }
   ],
   "source": [
    "@time test1(10, 10, 1000, false)"
   ]
  },
  {
   "cell_type": "code",
   "execution_count": 25,
   "metadata": {
    "collapsed": false
   },
   "outputs": [
    {
     "name": "stdout",
     "output_type": "stream",
     "text": [
      "  0.206588 seconds (329.68 k allocations: 167.328 MB, 6.06% gc time)\n"
     ]
    }
   ],
   "source": [
    "@time test1(100, 100, 100, true)"
   ]
  },
  {
   "cell_type": "code",
   "execution_count": 26,
   "metadata": {
    "collapsed": false
   },
   "outputs": [
    {
     "name": "stdout",
     "output_type": "stream",
     "text": [
      "  0.109157 seconds (88.95 k allocations: 62.638 MB, 3.19% gc time)\n"
     ]
    }
   ],
   "source": [
    "@time test1(100, 100, 100, false)"
   ]
  },
  {
   "cell_type": "code",
   "execution_count": 27,
   "metadata": {
    "collapsed": true
   },
   "outputs": [],
   "source": [
    "@profile test1(100, 100, 100, false)"
   ]
  },
  {
   "cell_type": "code",
   "execution_count": 28,
   "metadata": {
    "collapsed": false
   },
   "outputs": [
    {
     "name": "stdout",
     "output_type": "stream",
     "text": [
      "171 task.jl; anonymous; line: 447\n",
      " 170 .../IJulia/src/IJulia.jl; eventloop; line: 143\n",
      "  169 ...rc/execute_request.jl; execute_request_0x535c5df2; line: 183\n",
      "   169 loading.jl; include_string; line: 282\n",
      "    169 profile.jl; anonymous; line: 16\n",
      "     72 In[16]; test1; line: 3\n",
      "      40 ...zemi/DA_alg.jl/da.jl; generate_random_preference_data; line: 40\n",
      "       4  ...lib/julia/sys.dylib; vcat; (unknown line)\n",
      "       1  array.jl; copy; line: 100\n",
      "       5  multidimensional.jl; _unsafe_batchsetindex!; line: 328\n",
      "       27 random.jl; shuffle!; line: 1330\n",
      "        1 random.jl; call; line: 471\n",
      "        7 random.jl; call; line: 475\n",
      "         6 random.jl; maxmultiplemix; line: 445\n",
      "        5 random.jl; rand; line: 514\n",
      "        2 random.jl; rand; line: 516\n",
      "         1 random.jl; gen_rand; line: 88\n",
      "          1 dSFMT.jl; dsfmt_fill_array_close1_open2!; line: 67\n",
      "        7 random.jl; rand; line: 526\n",
      "       3  random.jl; shuffle!; line: 1331\n",
      "      32 ...zemi/DA_alg.jl/da.jl; generate_random_preference_data; line: 43\n",
      "       4  ...lib/julia/sys.dylib; vcat; (unknown line)\n",
      "       1  multidimensional.jl; _unsafe_batchsetindex!; line: 320\n",
      "       1  random.jl; shuffle!; line: 1329\n",
      "       24 random.jl; shuffle!; line: 1330\n",
      "        1  random.jl; call; line: 471\n",
      "        6  random.jl; call; line: 475\n",
      "         6 random.jl; maxmultiplemix; line: 445\n",
      "        3  random.jl; rand; line: 514\n",
      "        3  random.jl; rand; line: 516\n",
      "        1  random.jl; rand; line: 518\n",
      "        10 random.jl; rand; line: 526\n",
      "       1  random.jl; shuffle!; line: 1331\n",
      "     5  In[16]; test1; line: 4\n",
      "      5 .../zemi/DA_alg.jl/da.jl; call_match; line: 61\n",
      "       1 array.jl; findnext; line: 716\n",
      "       3 multidimensional.jl; _unsafe_getindex; line: 195\n",
      "     85 In[7]; test1; line: 3\n",
      "      1  ...zemi/DA_alg.jl/da.jl; generate_random_preference_data; line: 38\n",
      "      42 ...zemi/DA_alg.jl/da.jl; generate_random_preference_data; line: 40\n",
      "       4  ...lib/julia/sys.dylib; vcat; (unknown line)\n",
      "       1  multidimensional.jl; _unsafe_batchsetindex!; line: 320\n",
      "       1  multidimensional.jl; _unsafe_batchsetindex!; line: 331\n",
      "       36 random.jl; shuffle!; line: 1330\n",
      "        13 random.jl; call; line: 475\n",
      "         11 random.jl; maxmultiplemix; line: 445\n",
      "        4  random.jl; rand; line: 514\n",
      "        7  random.jl; rand; line: 516\n",
      "        1  random.jl; rand; line: 518\n",
      "        9  random.jl; rand; line: 526\n",
      "      41 ...zemi/DA_alg.jl/da.jl; generate_random_preference_data; line: 43\n",
      "       4  ...lib/julia/sys.dylib; vcat; (unknown line)\n",
      "       2  array.jl; copy; line: 100\n",
      "       1  cartesian.jl; _unsafe_batchsetindex!; line: 34\n",
      "       2  multidimensional.jl; _unsafe_batchsetindex!; line: 328\n",
      "       31 random.jl; shuffle!; line: 1330\n",
      "        2  random.jl; call; line: 471\n",
      "        11 random.jl; call; line: 475\n",
      "         11 random.jl; maxmultiplemix; line: 445\n",
      "        5  random.jl; rand; line: 514\n",
      "        4  random.jl; rand; line: 516\n",
      "         3 random.jl; gen_rand; line: 88\n",
      "          3 dSFMT.jl; dsfmt_fill_array_close1_open2!; line: 67\n",
      "        6  random.jl; rand; line: 526\n",
      "       1  random.jl; shuffle!; line: 1331\n",
      "     7  In[7]; test1; line: 4\n",
      "      3 .../zemi/DA_alg.jl/da.jl; call_match; line: 61\n",
      "       2 array.jl; findnext; line: 716\n",
      "       1 multidimensional.jl; _unsafe_getindex; line: 195\n",
      "      2 .../zemi/DA_alg.jl/da.jl; call_match; line: 67\n",
      "       2 ...zemi/DA_alg.jl/da.jl; da_match; line: 143\n",
      "        2 ...emi/DA_alg.jl/da.jl; decide_to_accept!; line: 116\n",
      "         2 ...emi/DA_alg.jl/da.jl; get_best_male_pointers; line: 106\n",
      "          2 array.jl; findnext; line: 716\n",
      "      2 .../zemi/DA_alg.jl/da.jl; call_match; line: 68\n",
      "       1 ...zemi/DA_alg.jl/da.jl; convert_pointer_to_list; line: 73\n",
      "        1 array.jl; findnext; line: 716\n",
      "       1 array.jl; findnext; line: 717\n",
      "  1   ...rc/execute_request.jl; execute_request_0x535c5df2; line: 205\n",
      "   1 ...4/IJulia/src/stdio.jl; flush; line: 186\n",
      " 1   .../IJulia/src/IJulia.jl; eventloop; line: 164\n",
      "  1 ...v0.4/IJulia/src/msg.jl; send_status; line: 101\n",
      "   1 dict.jl; call; line: 431\n",
      "    1 dict.jl; call; line: 389\n",
      "     1 ...a/lib/julia/sys.dylib; zeros; (unknown line)\n"
     ]
    }
   ],
   "source": [
    "Profile.print()"
   ]
  },
  {
   "cell_type": "code",
   "execution_count": 32,
   "metadata": {
    "collapsed": false
   },
   "outputs": [
    {
     "data": {
      "text/plain": [
       "test1 (generic function with 1 method)"
      ]
     },
     "execution_count": 32,
     "metadata": {},
     "output_type": "execute_result"
    }
   ],
   "source": [
    "function test1(m, n, l, rec)\n",
    "    m_prefs, f_prefs = DA.generate_random_preference_data(m, n)\n",
    "    for i in 1:l\n",
    "        DA.call_match(m, n, m_prefs, f_prefs, rec)\n",
    "    end\n",
    "end"
   ]
  },
  {
   "cell_type": "code",
   "execution_count": 33,
   "metadata": {
    "collapsed": false
   },
   "outputs": [
    {
     "name": "stdout",
     "output_type": "stream",
     "text": [
      "  0.011415 seconds (66.49 k allocations: 5.363 MB)\n"
     ]
    }
   ],
   "source": [
    "@time test1(10, 10, 1000, true)"
   ]
  },
  {
   "cell_type": "code",
   "execution_count": 34,
   "metadata": {
    "collapsed": false
   },
   "outputs": [
    {
     "name": "stdout",
     "output_type": "stream",
     "text": [
      "  0.002818 seconds (39.07 k allocations: 3.335 MB)\n"
     ]
    }
   ],
   "source": [
    "@time test1(10, 10, 1000, false)"
   ]
  },
  {
   "cell_type": "code",
   "execution_count": 35,
   "metadata": {
    "collapsed": false
   },
   "outputs": [
    {
     "name": "stdout",
     "output_type": "stream",
     "text": [
      "  0.131201 seconds (301.11 k allocations: 131.234 MB, 13.20% gc time)\n"
     ]
    }
   ],
   "source": [
    "@time test1(100, 100, 100, true)"
   ]
  },
  {
   "cell_type": "code",
   "execution_count": 36,
   "metadata": {
    "collapsed": false
   },
   "outputs": [
    {
     "name": "stdout",
     "output_type": "stream",
     "text": [
      "  0.008565 seconds (28.71 k allocations: 12.773 MB, 24.03% gc time)\n"
     ]
    }
   ],
   "source": [
    "@time test1(100, 100, 100, false)"
   ]
  },
  {
   "cell_type": "code",
   "execution_count": 37,
   "metadata": {
    "collapsed": true
   },
   "outputs": [],
   "source": [
    "@profile test1(100, 100, 100, false)"
   ]
  },
  {
   "cell_type": "code",
   "execution_count": 38,
   "metadata": {
    "collapsed": false
   },
   "outputs": [
    {
     "name": "stdout",
     "output_type": "stream",
     "text": [
      "176 task.jl; anonymous; line: 447\n",
      " 175 .../IJulia/src/IJulia.jl; eventloop; line: 143\n",
      "  174 ...rc/execute_request.jl; execute_request_0x535c5df2; line: 183\n",
      "   174 loading.jl; include_string; line: 282\n",
      "    174 profile.jl; anonymous; line: 16\n",
      "     72 In[16]; test1; line: 3\n",
      "      40 ...zemi/DA_alg.jl/da.jl; generate_random_preference_data; line: 40\n",
      "       4  ...lib/julia/sys.dylib; vcat; (unknown line)\n",
      "       1  array.jl; copy; line: 100\n",
      "       5  multidimensional.jl; _unsafe_batchsetindex!; line: 328\n",
      "       27 random.jl; shuffle!; line: 1330\n",
      "        1 random.jl; call; line: 471\n",
      "        7 random.jl; call; line: 475\n",
      "         6 random.jl; maxmultiplemix; line: 445\n",
      "        5 random.jl; rand; line: 514\n",
      "        2 random.jl; rand; line: 516\n",
      "         1 random.jl; gen_rand; line: 88\n",
      "          1 dSFMT.jl; dsfmt_fill_array_close1_open2!; line: 67\n",
      "        7 random.jl; rand; line: 526\n",
      "       3  random.jl; shuffle!; line: 1331\n",
      "      32 ...zemi/DA_alg.jl/da.jl; generate_random_preference_data; line: 43\n",
      "       4  ...lib/julia/sys.dylib; vcat; (unknown line)\n",
      "       1  multidimensional.jl; _unsafe_batchsetindex!; line: 320\n",
      "       1  random.jl; shuffle!; line: 1329\n",
      "       24 random.jl; shuffle!; line: 1330\n",
      "        1  random.jl; call; line: 471\n",
      "        6  random.jl; call; line: 475\n",
      "         6 random.jl; maxmultiplemix; line: 445\n",
      "        3  random.jl; rand; line: 514\n",
      "        3  random.jl; rand; line: 516\n",
      "        1  random.jl; rand; line: 518\n",
      "        10 random.jl; rand; line: 526\n",
      "       1  random.jl; shuffle!; line: 1331\n",
      "     5  In[16]; test1; line: 4\n",
      "      5 .../zemi/DA_alg.jl/da.jl; call_match; line: 61\n",
      "       1 array.jl; findnext; line: 716\n",
      "       3 multidimensional.jl; _unsafe_getindex; line: 195\n",
      "     5  In[32]; test1; line: 4\n",
      "      2 ...zemi/DA_alg.jl/da.jl; call_match; line: 61\n",
      "       1 array.jl; findnext; line: 716\n",
      "       1 multidimensional.jl; _unsafe_getindex; line: 195\n",
      "      1 ...zemi/DA_alg.jl/da.jl; call_match; line: 63\n",
      "       1 ...a/lib/julia/sys.dylib; call; (unknown line)\n",
      "        1 .../lib/julia/sys.dylib; call; (unknown line)\n",
      "      1 ...zemi/DA_alg.jl/da.jl; call_match; line: 67\n",
      "       1 ...zemi/DA_alg.jl/da.jl; convert_pointer_to_list; line: 72\n",
      "        1 array.jl; findnext; line: 716\n",
      "      1 array.jl; findnext; line: 717\n",
      "     85 In[7]; test1; line: 3\n",
      "      1  ...zemi/DA_alg.jl/da.jl; generate_random_preference_data; line: 38\n",
      "      42 ...zemi/DA_alg.jl/da.jl; generate_random_preference_data; line: 40\n",
      "       4  ...lib/julia/sys.dylib; vcat; (unknown line)\n",
      "       1  multidimensional.jl; _unsafe_batchsetindex!; line: 320\n",
      "       1  multidimensional.jl; _unsafe_batchsetindex!; line: 331\n",
      "       36 random.jl; shuffle!; line: 1330\n",
      "        13 random.jl; call; line: 475\n",
      "         11 random.jl; maxmultiplemix; line: 445\n",
      "        4  random.jl; rand; line: 514\n",
      "        7  random.jl; rand; line: 516\n",
      "        1  random.jl; rand; line: 518\n",
      "        9  random.jl; rand; line: 526\n",
      "      41 ...zemi/DA_alg.jl/da.jl; generate_random_preference_data; line: 43\n",
      "       4  ...lib/julia/sys.dylib; vcat; (unknown line)\n",
      "       2  array.jl; copy; line: 100\n",
      "       1  cartesian.jl; _unsafe_batchsetindex!; line: 34\n",
      "       2  multidimensional.jl; _unsafe_batchsetindex!; line: 328\n",
      "       31 random.jl; shuffle!; line: 1330\n",
      "        2  random.jl; call; line: 471\n",
      "        11 random.jl; call; line: 475\n",
      "         11 random.jl; maxmultiplemix; line: 445\n",
      "        5  random.jl; rand; line: 514\n",
      "        4  random.jl; rand; line: 516\n",
      "         3 random.jl; gen_rand; line: 88\n",
      "          3 dSFMT.jl; dsfmt_fill_array_close1_open2!; line: 67\n",
      "        6  random.jl; rand; line: 526\n",
      "       1  random.jl; shuffle!; line: 1331\n",
      "     7  In[7]; test1; line: 4\n",
      "      3 .../zemi/DA_alg.jl/da.jl; call_match; line: 61\n",
      "       2 array.jl; findnext; line: 716\n",
      "       1 multidimensional.jl; _unsafe_getindex; line: 195\n",
      "      2 .../zemi/DA_alg.jl/da.jl; call_match; line: 67\n",
      "       2 ...zemi/DA_alg.jl/da.jl; da_match; line: 143\n",
      "        2 ...emi/DA_alg.jl/da.jl; decide_to_accept!; line: 116\n",
      "         2 ...emi/DA_alg.jl/da.jl; get_best_male_pointers; line: 106\n",
      "          2 array.jl; findnext; line: 716\n",
      "      2 .../zemi/DA_alg.jl/da.jl; call_match; line: 68\n",
      "       1 ...zemi/DA_alg.jl/da.jl; convert_pointer_to_list; line: 73\n",
      "        1 array.jl; findnext; line: 716\n",
      "       1 array.jl; findnext; line: 717\n",
      "  1   ...rc/execute_request.jl; execute_request_0x535c5df2; line: 205\n",
      "   1 ...4/IJulia/src/stdio.jl; flush; line: 186\n",
      " 1   .../IJulia/src/IJulia.jl; eventloop; line: 164\n",
      "  1 ...v0.4/IJulia/src/msg.jl; send_status; line: 101\n",
      "   1 dict.jl; call; line: 431\n",
      "    1 dict.jl; call; line: 389\n",
      "     1 ...a/lib/julia/sys.dylib; zeros; (unknown line)\n"
     ]
    }
   ],
   "source": [
    "Profile.print()"
   ]
  },
  {
   "cell_type": "code",
   "execution_count": 39,
   "metadata": {
    "collapsed": false
   },
   "outputs": [
    {
     "name": "stdout",
     "output_type": "stream",
     "text": [
      "  1.230232 seconds (3.36 M allocations: 1.428 GB, 11.52% gc time)\n"
     ]
    }
   ],
   "source": [
    "@time test1(100, 100, 1000, true)"
   ]
  },
  {
   "cell_type": "code",
   "execution_count": 50,
   "metadata": {
    "collapsed": false
   },
   "outputs": [
    {
     "name": "stdout",
     "output_type": "stream",
     "text": [
      "  0.004732 seconds (39.06 k allocations: 3.335 MB)\n",
      "  0.027763 seconds (69.12 k allocations: 8.541 MB, 22.31% gc time)\n",
      "  0.034298 seconds (93.18 k allocations: 15.909 MB)\n",
      "  0.057570 seconds (127.24 k allocations: 28.172 MB, 24.69% gc time)\n",
      "  0.040328 seconds (149.31 k allocations: 40.276 MB, 32.08% gc time)\n",
      "  0.035105 seconds (177.37 k allocations: 50.301 MB, 27.60% gc time)\n",
      "  0.051962 seconds (205.43 k allocations: 67.917 MB, 30.44% gc time)\n",
      "  0.064289 seconds (221.49 k allocations: 80.010 MB, 32.44% gc time)\n",
      "  0.075100 seconds (257.55 k allocations: 102.843 MB, 29.22% gc time)\n",
      "  0.064747 seconds (285.61 k allocations: 124.953 MB, 21.84% gc time)\n",
      "  0.106857 seconds (297.67 k allocations: 146.200 MB, 32.26% gc time)\n",
      "  0.135030 seconds (335.73 k allocations: 177.683 MB, 29.82% gc time)\n",
      "  0.155983 seconds (371.79 k allocations: 210.961 MB, 30.08% gc time)\n",
      "  0.197095 seconds (397.85 k allocations: 240.951 MB, 34.64% gc time)\n",
      "  0.329229 seconds (437.90 k allocations: 288.609 MB, 35.12% gc time)\n",
      "  0.230667 seconds (449.96 k allocations: 296.582 MB, 30.82% gc time)\n",
      "  0.237618 seconds (480.02 k allocations: 345.749 MB, 36.13% gc time)\n",
      "  0.322571 seconds (520.09 k allocations: 410.351 MB, 39.24% gc time)\n",
      "  0.286159 seconds (520.14 k allocations: 410.470 MB, 35.14% gc time)\n",
      "  0.436121 seconds (562.21 k allocations: 490.897 MB, 36.32% gc time)\n",
      "  0.386962 seconds (584.26 k allocations: 510.164 MB, 34.36% gc time)\n",
      "  0.436446 seconds (618.33 k allocations: 606.068 MB, 39.48% gc time)\n",
      "  0.419630 seconds (644.38 k allocations: 631.606 MB, 36.36% gc time)\n",
      "  0.430559 seconds (662.45 k allocations: 649.334 MB, 36.45% gc time)\n",
      "  0.598739 seconds (714.50 k allocations: 722.012 MB, 26.07% gc time)\n",
      "  0.560294 seconds (712.57 k allocations: 747.411 MB, 25.27% gc time)\n",
      "  0.540024 seconds (758.63 k allocations: 824.654 MB, 28.26% gc time)\n",
      "  0.554000 seconds (770.68 k allocations: 867.284 MB, 28.08% gc time)\n",
      "  0.580119 seconds (800.75 k allocations: 931.713 MB, 28.23% gc time)\n",
      "  0.680728 seconds (832.80 k allocations: 1000.835 MB, 26.29% gc time)\n",
      "  0.710882 seconds (858.87 k allocations: 1.040 GB, 28.19% gc time)\n",
      "  0.783538 seconds (888.92 k allocations: 1.110 GB, 27.04% gc time)\n",
      "  0.860644 seconds (926.99 k allocations: 1.192 GB, 27.16% gc time)\n",
      "  0.885802 seconds (943.04 k allocations: 1.248 GB, 24.79% gc time)\n",
      "  0.874858 seconds (977.11 k allocations: 1.329 GB, 26.06% gc time)\n",
      "  0.909906 seconds (1.01 M allocations: 1.413 GB, 26.35% gc time)\n",
      "  0.906798 seconds (1.00 M allocations: 1.440 GB, 26.05% gc time)\n",
      "  0.975361 seconds (1.03 M allocations: 1.518 GB, 26.31% gc time)\n",
      "  1.047783 seconds (1.08 M allocations: 1.629 GB, 26.27% gc time)\n",
      "  1.142478 seconds (1.11 M allocations: 1.719 GB, 26.14% gc time)\n"
     ]
    }
   ],
   "source": [
    "for i in 1:40\n",
    "    @time test1(10*i, 10*i, 1000, false)\n",
    "end"
   ]
  },
  {
   "cell_type": "code",
   "execution_count": null,
   "metadata": {
    "collapsed": true
   },
   "outputs": [],
   "source": []
  }
 ],
 "metadata": {
  "kernelspec": {
   "display_name": "Julia 0.4.5",
   "language": "julia",
   "name": "julia-0.4"
  },
  "language_info": {
   "file_extension": ".jl",
   "mimetype": "application/julia",
   "name": "julia",
   "version": "0.4.5"
  }
 },
 "nbformat": 4,
 "nbformat_minor": 0
}
