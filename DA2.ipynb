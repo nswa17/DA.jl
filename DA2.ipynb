{
 "cells": [
  {
   "cell_type": "code",
   "execution_count": 1,
   "metadata": {
    "collapsed": false
   },
   "outputs": [
    {
     "data": {
      "text/plain": [
       "DA"
      ]
     },
     "execution_count": 1,
     "metadata": {},
     "output_type": "execute_result"
    }
   ],
   "source": [
    "include(\"da.jl\")"
   ]
  },
  {
   "cell_type": "code",
   "execution_count": 2,
   "metadata": {
    "collapsed": false
   },
   "outputs": [
    {
     "data": {
      "text/plain": [
       "call_match (generic function with 2 methods)"
      ]
     },
     "execution_count": 2,
     "metadata": {},
     "output_type": "execute_result"
    }
   ],
   "source": [
    "deferred_acceptance = DA.call_match"
   ]
  },
  {
   "cell_type": "code",
   "execution_count": 3,
   "metadata": {
    "collapsed": false,
    "scrolled": true
   },
   "outputs": [
    {
     "data": {
      "text/plain": [
       "([1,2],[1,2])"
      ]
     },
     "execution_count": 3,
     "metadata": {},
     "output_type": "execute_result"
    }
   ],
   "source": [
    "DA.call_match([1 2; 2 1; 0 0], [1 2; 2 1; 0 0])"
   ]
  },
  {
   "cell_type": "code",
   "execution_count": 4,
   "metadata": {
    "collapsed": false
   },
   "outputs": [
    {
     "data": {
      "text/plain": [
       "([1,2],[1,2],[1,2,3])"
      ]
     },
     "execution_count": 4,
     "metadata": {},
     "output_type": "execute_result"
    }
   ],
   "source": [
    "DA.call_match([1 2; 2 1; 0 0], [1 2; 2 1; 0 0], [1, 1])"
   ]
  },
  {
   "cell_type": "code",
   "execution_count": 5,
   "metadata": {
    "collapsed": false
   },
   "outputs": [
    {
     "data": {
      "text/plain": [
       "3-element Array{Int64,1}:\n",
       " 1\n",
       " 1\n",
       " 1"
      ]
     },
     "execution_count": 5,
     "metadata": {},
     "output_type": "execute_result"
    }
   ],
   "source": [
    "m_prefs = [1 3 2 3;\n",
    "                   2 1 3 1;\n",
    "                   3 2 1 2;\n",
    "                   0 0 0 0]\n",
    "f_prefs = [3 1 3;\n",
    "           1 2 0;\n",
    "           2 3 2;\n",
    "           4 4 1;\n",
    "           0 0 4]\n",
    "caps = [1, 1, 1]"
   ]
  },
  {
   "cell_type": "code",
   "execution_count": 6,
   "metadata": {
    "collapsed": false
   },
   "outputs": [
    {
     "data": {
      "text/plain": [
       "([1,2,3,0],[1,2,3],[1,2,3,4])"
      ]
     },
     "execution_count": 6,
     "metadata": {},
     "output_type": "execute_result"
    }
   ],
   "source": [
    "DA.call_match(m_prefs, f_prefs, caps)"
   ]
  },
  {
   "cell_type": "code",
   "execution_count": 7,
   "metadata": {
    "collapsed": false
   },
   "outputs": [
    {
     "name": "stdout",
     "output_type": "stream",
     "text": [
      "deferred_acceptance: many-to-one: Test Failed\n"
     ]
    },
    {
     "name": "stderr",
     "output_type": "stream",
     "text": [
      "WARNING: replacing module DA\n"
     ]
    },
    {
     "name": "stdout",
     "output_type": "stream",
     "text": [
      "  Expression: c_matched_computed == c_matched_expected\n",
      "   Evaluated: [2,8,10,5,7,1,4,6,3,9,11] == [2,5,8,10,7,1,4,6,3,9,11]\n",
      " in record at /Users/neon/.julia/v0.4/BaseTestNext/src/BaseTestNext.jl:320\n",
      " in do_test at /Users/neon/.julia/v0.4/BaseTestNext/src/BaseTestNext.jl:192\n",
      " [inlined code] from /Users/neon/Desktop/S/zemi/DA_alg.jl/test_deferred_acceptance.jl:115\n",
      " in anonymous at no file:0\n",
      " in include at /Applications/Julia-0.4.5 2.app/Contents/Resources/julia/lib/julia/sys.dylib\n",
      " in include_from_node1 at /Applications/Julia-0.4.5 2.app/Contents/Resources/julia/lib/julia/sys.dylib\n",
      " in include_string at loading.jl:282\n",
      " in execute_request_0x535c5df2 at /Users/neon/.julia/v0.4/IJulia/src/execute_request.jl:183\n",
      " in eventloop at /Users/neon/.julia/v0.4/IJulia/src/IJulia.jl:143\n",
      " in anonymous at task.jl:447\n",
      "Test Summary:                                  | Pass  Fail  Total\n",
      "Testing DA.jl                                  |    9     1     10\n",
      "  deferred_acceptance: one-to-one              |    4            4\n",
      "  deferred_acceptance: many-to-one with caps 1 |    3            3\n",
      "  deferred_acceptance: many-to-one             |    2     1      3\n"
     ]
    },
    {
     "ename": "LoadError",
     "evalue": "LoadError: LoadError: Some tests did not pass: 9 passed, 1 failed, 0 errored.\nwhile loading /Users/neon/Desktop/S/zemi/DA_alg.jl/test_deferred_acceptance.jl, in expression starting on line 17\nwhile loading In[7], in expression starting on line 1",
     "output_type": "error",
     "traceback": [
      "LoadError: LoadError: Some tests did not pass: 9 passed, 1 failed, 0 errored.\nwhile loading /Users/neon/Desktop/S/zemi/DA_alg.jl/test_deferred_acceptance.jl, in expression starting on line 17\nwhile loading In[7], in expression starting on line 1",
      "",
      " in finish at /Users/neon/.julia/v0.4/BaseTestNext/src/BaseTestNext.jl:385",
      " [inlined code] from /Users/neon/.julia/v0.4/BaseTestNext/src/BaseTestNext.jl:559",
      " in anonymous at no file:0",
      " in include at /Applications/Julia-0.4.5 2.app/Contents/Resources/julia/lib/julia/sys.dylib",
      " in include_from_node1 at /Applications/Julia-0.4.5 2.app/Contents/Resources/julia/lib/julia/sys.dylib"
     ]
    }
   ],
   "source": [
    "include(\"test_deferred_acceptance.jl\")"
   ]
  },
  {
   "cell_type": "code",
   "execution_count": null,
   "metadata": {
    "collapsed": true
   },
   "outputs": [],
   "source": []
  }
 ],
 "metadata": {
  "kernelspec": {
   "display_name": "Julia 0.4.5",
   "language": "julia",
   "name": "julia-0.4"
  },
  "language_info": {
   "file_extension": ".jl",
   "mimetype": "application/julia",
   "name": "julia",
   "version": "0.4.5"
  }
 },
 "nbformat": 4,
 "nbformat_minor": 0
}
