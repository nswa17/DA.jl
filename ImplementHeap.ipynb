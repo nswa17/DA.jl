{
 "cells": [
  {
   "cell_type": "code",
   "execution_count": 1,
   "metadata": {
    "collapsed": false
   },
   "outputs": [],
   "source": [
    "type BinaryMaxHeap\n",
    "    heap::Array{Int}\n",
    "    ind::Int\n",
    "    BinaryMaxHeap(m::Int) = new(Array(Int, m), 0)\n",
    "end"
   ]
  },
  {
   "cell_type": "code",
   "execution_count": 2,
   "metadata": {
    "collapsed": false
   },
   "outputs": [
    {
     "data": {
      "text/plain": [
       "BinaryMaxHeap([4609318448,4609318512,4609318576,4609318640,4609318704,4609325488,4609318288,4609318320,4609318352,4601946416],0)"
      ]
     },
     "execution_count": 2,
     "metadata": {},
     "output_type": "execute_result"
    }
   ],
   "source": [
    "bmh = BinaryMaxHeap(10)"
   ]
  },
  {
   "cell_type": "code",
   "execution_count": 5,
   "metadata": {
    "collapsed": false
   },
   "outputs": [
    {
     "data": {
      "text/plain": [
       "reshape_up! (generic function with 1 method)"
      ]
     },
     "execution_count": 5,
     "metadata": {},
     "output_type": "execute_result"
    }
   ],
   "source": [
    "function reshape_up!(bmh::BinaryMaxHeap)\n",
    "    current_ind = bmh.ind\n",
    "    while true\n",
    "        par = div(current_ind, 2)\n",
    "        if par == 0 || bmh.heap[current_ind] <= bmh.heap[par]\n",
    "            break\n",
    "        else\n",
    "            bmh.heap[current_ind], bmh.heap[par] = bmh.heap[par], bmh.heap[current_ind]\n",
    "        end\n",
    "        current_ind = par\n",
    "    end\n",
    "end"
   ]
  },
  {
   "cell_type": "code",
   "execution_count": 6,
   "metadata": {
    "collapsed": false
   },
   "outputs": [
    {
     "data": {
      "text/plain": [
       "reshape_down! (generic function with 1 method)"
      ]
     },
     "execution_count": 6,
     "metadata": {},
     "output_type": "execute_result"
    }
   ],
   "source": [
    "function reshape_down!(bmh::BinaryMaxHeap)\n",
    "    current_ind = 1\n",
    "    while true\n",
    "        c1, c2 = current_ind * 2, current_ind * 2 + 1\n",
    "        if c1 > bmh.ind\n",
    "            break\n",
    "        elseif c2 > bmh.ind\n",
    "            c = c1\n",
    "        else\n",
    "            c = bmh.heap[c1] < bmh.heap[c2] ? c2 : c1\n",
    "        end\n",
    "        if bmh.heap[current_ind] < bmh.heap[c]\n",
    "            bmh.heap[c], bmh.heap[current_ind] = bmh.heap[current_ind], bmh.heap[c]\n",
    "            current_ind = c\n",
    "        else\n",
    "            break\n",
    "        end\n",
    "    end\n",
    "end"
   ]
  },
  {
   "cell_type": "code",
   "execution_count": 7,
   "metadata": {
    "collapsed": false
   },
   "outputs": [
    {
     "data": {
      "text/plain": [
       "push! (generic function with 1 method)"
      ]
     },
     "execution_count": 7,
     "metadata": {},
     "output_type": "execute_result"
    }
   ],
   "source": [
    "function push!(bmh::BinaryMaxHeap, priority::Int)\n",
    "    bmh.ind += 1\n",
    "    bmh.heap[bmh.ind] = priority\n",
    "    reshape_up!(bmh)\n",
    "end"
   ]
  },
  {
   "cell_type": "code",
   "execution_count": 8,
   "metadata": {
    "collapsed": false
   },
   "outputs": [
    {
     "data": {
      "text/plain": [
       "pop! (generic function with 1 method)"
      ]
     },
     "execution_count": 8,
     "metadata": {},
     "output_type": "execute_result"
    }
   ],
   "source": [
    "function pop!(bmh::BinaryMaxHeap)\n",
    "    ret_val = bmh.heap[1]\n",
    "    bmh.heap[1] = bmh.heap[bmh.ind]\n",
    "    bmh.ind -= 1\n",
    "    reshape_down!(bmh)\n",
    "    return ret_val\n",
    "end"
   ]
  },
  {
   "cell_type": "code",
   "execution_count": 9,
   "metadata": {
    "collapsed": false
   },
   "outputs": [
    {
     "data": {
      "text/plain": [
       "top (generic function with 1 method)"
      ]
     },
     "execution_count": 9,
     "metadata": {},
     "output_type": "execute_result"
    }
   ],
   "source": [
    "function top(bmh::BinaryMaxHeap)\n",
    "    return bmh.heap[1]\n",
    "end"
   ]
  },
  {
   "cell_type": "code",
   "execution_count": 10,
   "metadata": {
    "collapsed": false
   },
   "outputs": [],
   "source": [
    "for i in 1:10\n",
    "    push!(bmh, i)\n",
    "end"
   ]
  },
  {
   "cell_type": "code",
   "execution_count": 11,
   "metadata": {
    "collapsed": false
   },
   "outputs": [
    {
     "data": {
      "text/plain": [
       "BinaryMaxHeap([10,9,6,7,8,2,5,1,4,3],10)"
      ]
     },
     "execution_count": 11,
     "metadata": {},
     "output_type": "execute_result"
    }
   ],
   "source": [
    "bmh"
   ]
  },
  {
   "cell_type": "code",
   "execution_count": 12,
   "metadata": {
    "collapsed": false,
    "scrolled": false
   },
   "outputs": [
    {
     "data": {
      "text/plain": [
       "10"
      ]
     },
     "execution_count": 12,
     "metadata": {},
     "output_type": "execute_result"
    }
   ],
   "source": [
    "pop!(bmh)"
   ]
  },
  {
   "cell_type": "code",
   "execution_count": 13,
   "metadata": {
    "collapsed": false
   },
   "outputs": [
    {
     "name": "stdout",
     "output_type": "stream",
     "text": [
      "9\n",
      "8\n",
      "7\n",
      "6\n",
      "5\n",
      "4\n",
      "3\n",
      "2\n",
      "1\n"
     ]
    }
   ],
   "source": [
    "for i in 1:9\n",
    "    println(pop!(bmh))\n",
    "end"
   ]
  },
  {
   "cell_type": "code",
   "execution_count": 14,
   "metadata": {
    "collapsed": false
   },
   "outputs": [
    {
     "data": {
      "text/plain": [
       "BinaryMaxHeap([1,1,2,1,3,2,5,1,4,3],0)"
      ]
     },
     "execution_count": 14,
     "metadata": {},
     "output_type": "execute_result"
    }
   ],
   "source": [
    "bmh"
   ]
  },
  {
   "cell_type": "code",
   "execution_count": null,
   "metadata": {
    "collapsed": true
   },
   "outputs": [],
   "source": []
  }
 ],
 "metadata": {
  "kernelspec": {
   "display_name": "Julia 0.5.2",
   "language": "julia",
   "name": "julia-0.5"
  },
  "language_info": {
   "file_extension": ".jl",
   "mimetype": "application/julia",
   "name": "julia",
   "version": "0.5.2"
  }
 },
 "nbformat": 4,
 "nbformat_minor": 2
}
