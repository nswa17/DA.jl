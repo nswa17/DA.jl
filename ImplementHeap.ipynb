{
 "cells": [
  {
   "cell_type": "code",
   "execution_count": 1,
   "metadata": {
    "collapsed": false,
    "deletable": true,
    "editable": true
   },
   "outputs": [],
   "source": [
    "type BinaryMaxHeap\n",
    "    heap::Array{Int}\n",
    "    ind::Int\n",
    "    BinaryMaxHeap(m_max::Int) = new(Array(Int, m_max), 0)\n",
    "end"
   ]
  },
  {
   "cell_type": "code",
   "execution_count": 2,
   "metadata": {
    "collapsed": false,
    "deletable": true,
    "editable": true
   },
   "outputs": [
    {
     "data": {
      "text/plain": [
       "reshape_up! (generic function with 1 method)"
      ]
     },
     "execution_count": 2,
     "metadata": {},
     "output_type": "execute_result"
    }
   ],
   "source": [
    "function reshape_up!(bmh::BinaryMaxHeap)\n",
    "    current_ind = bmh.ind\n",
    "    while true\n",
    "        par = current_ind >> 1\n",
    "        if par == 0 || bmh.heap[current_ind] <= bmh.heap[par]\n",
    "            break\n",
    "        else\n",
    "            bmh.heap[current_ind], bmh.heap[par] = bmh.heap[par], bmh.heap[current_ind]\n",
    "        end\n",
    "        current_ind = par\n",
    "    end\n",
    "end"
   ]
  },
  {
   "cell_type": "code",
   "execution_count": 3,
   "metadata": {
    "collapsed": false,
    "deletable": true,
    "editable": true
   },
   "outputs": [
    {
     "data": {
      "text/plain": [
       "reshape_down! (generic function with 1 method)"
      ]
     },
     "execution_count": 3,
     "metadata": {},
     "output_type": "execute_result"
    }
   ],
   "source": [
    "function reshape_down!(bmh::BinaryMaxHeap)\n",
    "    current_ind = 1\n",
    "    while true\n",
    "        c1, c2 = current_ind * 2, current_ind * 2 + 1\n",
    "        if c1 > bmh.ind\n",
    "            break\n",
    "        elseif c2 > bmh.ind\n",
    "            c = c1\n",
    "        else\n",
    "            c = bmh.heap[c1] < bmh.heap[c2] ? c2 : c1\n",
    "        end\n",
    "        if bmh.heap[current_ind] < bmh.heap[c]\n",
    "            bmh.heap[c], bmh.heap[current_ind] = bmh.heap[current_ind], bmh.heap[c]\n",
    "            current_ind = c\n",
    "        else\n",
    "            break\n",
    "        end\n",
    "    end\n",
    "end"
   ]
  },
  {
   "cell_type": "code",
   "execution_count": 4,
   "metadata": {
    "collapsed": false,
    "deletable": true,
    "editable": true
   },
   "outputs": [
    {
     "data": {
      "text/plain": [
       "push! (generic function with 1 method)"
      ]
     },
     "execution_count": 4,
     "metadata": {},
     "output_type": "execute_result"
    }
   ],
   "source": [
    "function push!(bmh::BinaryMaxHeap, priority::Int)\n",
    "    bmh.ind += 1\n",
    "    bmh.heap[bmh.ind] = priority\n",
    "    reshape_up!(bmh)\n",
    "end"
   ]
  },
  {
   "cell_type": "code",
   "execution_count": 5,
   "metadata": {
    "collapsed": false,
    "deletable": true,
    "editable": true
   },
   "outputs": [
    {
     "data": {
      "text/plain": [
       "pop! (generic function with 1 method)"
      ]
     },
     "execution_count": 5,
     "metadata": {},
     "output_type": "execute_result"
    }
   ],
   "source": [
    "function pop!(bmh::BinaryMaxHeap)\n",
    "    ret_val = bmh.heap[1]\n",
    "    bmh.heap[1] = bmh.heap[bmh.ind]\n",
    "    bmh.ind -= 1\n",
    "    reshape_down!(bmh)\n",
    "    return ret_val\n",
    "end"
   ]
  },
  {
   "cell_type": "code",
   "execution_count": 6,
   "metadata": {
    "collapsed": false,
    "deletable": true,
    "editable": true
   },
   "outputs": [
    {
     "data": {
      "text/plain": [
       "top (generic function with 1 method)"
      ]
     },
     "execution_count": 6,
     "metadata": {},
     "output_type": "execute_result"
    }
   ],
   "source": [
    "function top(bmh::BinaryMaxHeap)\n",
    "    return bmh.heap[1]\n",
    "end"
   ]
  },
  {
   "cell_type": "code",
   "execution_count": 7,
   "metadata": {
    "collapsed": false,
    "deletable": true,
    "editable": true
   },
   "outputs": [
    {
     "data": {
      "text/plain": [
       "BinaryMaxHeap([4646374576,4646374640,4646374704,4646380624,4646469712,4646381136,4646398032,4646398320,4646470128,4646403216],0)"
      ]
     },
     "execution_count": 7,
     "metadata": {},
     "output_type": "execute_result"
    }
   ],
   "source": [
    "bmh = BinaryMaxHeap(10)"
   ]
  },
  {
   "cell_type": "code",
   "execution_count": 8,
   "metadata": {
    "collapsed": false,
    "deletable": true,
    "editable": true
   },
   "outputs": [],
   "source": [
    "for i in 1:10\n",
    "    push!(bmh, i)\n",
    "end"
   ]
  },
  {
   "cell_type": "code",
   "execution_count": 9,
   "metadata": {
    "collapsed": false,
    "deletable": true,
    "editable": true
   },
   "outputs": [
    {
     "data": {
      "text/plain": [
       "BinaryMaxHeap([10,9,6,7,8,2,5,1,4,3],10)"
      ]
     },
     "execution_count": 9,
     "metadata": {},
     "output_type": "execute_result"
    }
   ],
   "source": [
    "bmh"
   ]
  },
  {
   "cell_type": "code",
   "execution_count": 10,
   "metadata": {
    "collapsed": false,
    "deletable": true,
    "editable": true,
    "scrolled": false
   },
   "outputs": [
    {
     "data": {
      "text/plain": [
       "10"
      ]
     },
     "execution_count": 10,
     "metadata": {},
     "output_type": "execute_result"
    }
   ],
   "source": [
    "pop!(bmh)"
   ]
  },
  {
   "cell_type": "code",
   "execution_count": 11,
   "metadata": {
    "collapsed": false,
    "deletable": true,
    "editable": true
   },
   "outputs": [
    {
     "name": "stdout",
     "output_type": "stream",
     "text": [
      "9\n",
      "8\n",
      "7\n",
      "6\n",
      "5\n",
      "4\n",
      "3\n",
      "2\n",
      "1\n"
     ]
    }
   ],
   "source": [
    "for i in 1:9\n",
    "    println(pop!(bmh))\n",
    "end"
   ]
  },
  {
   "cell_type": "code",
   "execution_count": 12,
   "metadata": {
    "collapsed": false,
    "deletable": true,
    "editable": true
   },
   "outputs": [
    {
     "data": {
      "text/plain": [
       "BinaryMaxHeap([1,1,2,1,3,2,5,1,4,3],0)"
      ]
     },
     "execution_count": 12,
     "metadata": {},
     "output_type": "execute_result"
    }
   ],
   "source": [
    "bmh"
   ]
  },
  {
   "cell_type": "code",
   "execution_count": 13,
   "metadata": {
    "collapsed": true,
    "deletable": true,
    "editable": true
   },
   "outputs": [],
   "source": [
    "type IntegratedBinaryMaxHeap\n",
    "    heap::Array{Int, 2}\n",
    "    inds::Vector{Int}\n",
    "    IntegratedBinaryMaxHeap(m_max::Int, n::Int) = new(Array(Int, m_max, n), zeros(Int, n))\n",
    "end"
   ]
  },
  {
   "cell_type": "code",
   "execution_count": 14,
   "metadata": {
    "collapsed": false,
    "deletable": true,
    "editable": true
   },
   "outputs": [
    {
     "data": {
      "text/plain": [
       "reshape_up! (generic function with 2 methods)"
      ]
     },
     "execution_count": 14,
     "metadata": {},
     "output_type": "execute_result"
    }
   ],
   "source": [
    "function reshape_up!(ibmh::IntegratedBinaryMaxHeap, j::Int)\n",
    "    current_ind = ibmh.inds[j]\n",
    "    while true\n",
    "        par = current_ind >> 1\n",
    "        if par == 0 || ibmh.heap[current_ind, j] <= ibmh.heap[par, j]\n",
    "            break\n",
    "        else\n",
    "            ibmh.heap[current_ind, j], ibmh.heap[par, j] = ibmh.heap[par, j], ibmh.heap[current_ind, j]\n",
    "        end\n",
    "        current_ind = par\n",
    "    end\n",
    "end"
   ]
  },
  {
   "cell_type": "code",
   "execution_count": 15,
   "metadata": {
    "collapsed": false,
    "deletable": true,
    "editable": true
   },
   "outputs": [
    {
     "data": {
      "text/plain": [
       "push! (generic function with 2 methods)"
      ]
     },
     "execution_count": 15,
     "metadata": {},
     "output_type": "execute_result"
    }
   ],
   "source": [
    "function push!(bmh::IntegratedBinaryMaxHeap, j::Int, priority::Int)\n",
    "    ibmh.inds[j] += 1\n",
    "    ibmh.heap[ibmh.inds[j], j] = priority\n",
    "    reshape_up!(ibmh, j)\n",
    "end"
   ]
  },
  {
   "cell_type": "code",
   "execution_count": 16,
   "metadata": {
    "collapsed": false,
    "deletable": true,
    "editable": true
   },
   "outputs": [
    {
     "data": {
      "text/plain": [
       "reshape_down! (generic function with 2 methods)"
      ]
     },
     "execution_count": 16,
     "metadata": {},
     "output_type": "execute_result"
    }
   ],
   "source": [
    "function reshape_down!(ibmh::IntegratedBinaryMaxHeap, j::Int)\n",
    "    current_ind = 1\n",
    "    while true\n",
    "        c1, c2 = current_ind * 2, current_ind * 2 + 1\n",
    "        if c1 > ibmh.inds[j]\n",
    "            break\n",
    "        elseif c2 > ibmh.inds[j]\n",
    "            c = c1\n",
    "        else\n",
    "            c = ibmh.heap[c1, j] < ibmh.heap[c2, j] ? c2 : c1\n",
    "        end\n",
    "        if ibmh.heap[current_ind, j] < ibmh.heap[c, j]\n",
    "            ibmh.heap[c, j], ibmh.heap[current_ind, j] = ibmh.heap[current_ind, j], ibmh.heap[c, j]\n",
    "            current_ind = c\n",
    "        else\n",
    "            break\n",
    "        end\n",
    "    end\n",
    "end"
   ]
  },
  {
   "cell_type": "code",
   "execution_count": 17,
   "metadata": {
    "collapsed": false,
    "deletable": true,
    "editable": true
   },
   "outputs": [
    {
     "data": {
      "text/plain": [
       "pop! (generic function with 2 methods)"
      ]
     },
     "execution_count": 17,
     "metadata": {},
     "output_type": "execute_result"
    }
   ],
   "source": [
    "function pop!(ibmh::IntegratedBinaryMaxHeap, j::Int)\n",
    "    ret_val = ibmh.heap[1, j]\n",
    "    ibmh.heap[1, j] = ibmh.heap[ibmh.inds[j], j]\n",
    "    ibmh.inds[j] -= 1\n",
    "    reshape_down!(ibmh, j)\n",
    "    return ret_val\n",
    "end"
   ]
  },
  {
   "cell_type": "code",
   "execution_count": 18,
   "metadata": {
    "collapsed": false,
    "deletable": true,
    "editable": true
   },
   "outputs": [
    {
     "data": {
      "text/plain": [
       "top (generic function with 2 methods)"
      ]
     },
     "execution_count": 18,
     "metadata": {},
     "output_type": "execute_result"
    }
   ],
   "source": [
    "function top(ibmh::IntegratedBinaryMaxHeap, j::Int)\n",
    "    if ibmh.inds[j] == 0\n",
    "        return 0\n",
    "    else\n",
    "        return ibmh.heap[1, j]\n",
    "    end\n",
    "end"
   ]
  },
  {
   "cell_type": "code",
   "execution_count": 19,
   "metadata": {
    "collapsed": false,
    "deletable": true,
    "editable": true
   },
   "outputs": [
    {
     "data": {
      "text/plain": [
       "IntegratedBinaryMaxHeap([4565368864 4565368864 … 4565368864 4565368864; 4565368864 4565368864 … 4565368864 4565368864; … ; 4565368864 4565368864 … 4565368864 4565368864; 4565368864 4565368864 … 4565368864 0],[0,0,0,0,0,0,0,0,0,0])"
      ]
     },
     "execution_count": 19,
     "metadata": {},
     "output_type": "execute_result"
    }
   ],
   "source": [
    "ibmh = IntegratedBinaryMaxHeap(10, 10)"
   ]
  },
  {
   "cell_type": "code",
   "execution_count": 20,
   "metadata": {
    "collapsed": true,
    "deletable": true,
    "editable": true
   },
   "outputs": [],
   "source": [
    "push!(ibmh, 1, 5)"
   ]
  },
  {
   "cell_type": "code",
   "execution_count": 21,
   "metadata": {
    "collapsed": false,
    "deletable": true,
    "editable": true
   },
   "outputs": [
    {
     "data": {
      "text/plain": [
       "5"
      ]
     },
     "execution_count": 21,
     "metadata": {},
     "output_type": "execute_result"
    }
   ],
   "source": [
    "top(ibmh, 1)"
   ]
  },
  {
   "cell_type": "code",
   "execution_count": 22,
   "metadata": {
    "collapsed": false,
    "deletable": true,
    "editable": true
   },
   "outputs": [
    {
     "data": {
      "text/plain": [
       "5"
      ]
     },
     "execution_count": 22,
     "metadata": {},
     "output_type": "execute_result"
    }
   ],
   "source": [
    "pop!(ibmh, 1)"
   ]
  },
  {
   "cell_type": "code",
   "execution_count": 23,
   "metadata": {
    "collapsed": false,
    "deletable": true,
    "editable": true
   },
   "outputs": [
    {
     "data": {
      "text/plain": [
       "0"
      ]
     },
     "execution_count": 23,
     "metadata": {},
     "output_type": "execute_result"
    }
   ],
   "source": [
    "top(ibmh, 1)"
   ]
  }
 ],
 "metadata": {
  "kernelspec": {
   "display_name": "Julia 0.5.2",
   "language": "julia",
   "name": "julia-0.5"
  },
  "language_info": {
   "file_extension": ".jl",
   "mimetype": "application/julia",
   "name": "julia",
   "version": "0.5.2"
  }
 },
 "nbformat": 4,
 "nbformat_minor": 2
}
