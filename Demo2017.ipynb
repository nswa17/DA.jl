{
 "cells": [
  {
   "cell_type": "markdown",
   "metadata": {
    "deletable": true,
    "editable": true
   },
   "source": [
    "# DA Algorithm\n",
    "### 中田 竜明"
   ]
  },
  {
   "cell_type": "code",
   "execution_count": 1,
   "metadata": {
    "collapsed": false,
    "deletable": true,
    "editable": true
   },
   "outputs": [],
   "source": [
    "using DA"
   ]
  },
  {
   "cell_type": "markdown",
   "metadata": {
    "deletable": true,
    "editable": true
   },
   "source": [
    "昨年のnotebookは[こちら](http://nbviewer.jupyter.org/github/nswa17/DA_alg.jl/blob/master/DA.ipynb?flush_cache=true)\n",
    "\n",
    "1対1マッチングについて, (male-proposingと仮定して)マッチしていない男性をスタックに載せるなどの変更を加えました.\n",
    "結果的に,\n",
    "\n",
    "1. `while any(男性がマッチしていないかのbool配列)`の部分を`while スタックの長さの変数 > 0`とすることができ,\n",
    "1. マッチしていない男性１人の取り出しを行う部分でループを回す必要もなくなったので,(`pop!(待ち男性のスタック)`とすればよい)\n",
    "\n",
    "特にマッチングループ終盤で不必要なループ・条件式の評価がなくなりました.(プロファイルを確認したところこの部分に時間がかかっていたようです)"
   ]
  },
  {
   "cell_type": "markdown",
   "metadata": {
    "deletable": true,
    "editable": true
   },
   "source": [
    "テストを行います."
   ]
  },
  {
   "cell_type": "code",
   "execution_count": 2,
   "metadata": {
    "collapsed": false,
    "deletable": true,
    "editable": true,
    "scrolled": false
   },
   "outputs": [
    {
     "name": "stderr",
     "output_type": "stream",
     "text": [
      "\u001b[1m\u001b[34mINFO: Testing DA\n",
      "\u001b[0m"
     ]
    },
    {
     "name": "stdout",
     "output_type": "stream",
     "text": [
      "\u001b[1m\u001b[37mTest Summary:               | \u001b[0m\u001b[1m\u001b[32mPass  \u001b[0m\u001b[1m\u001b[34mTotal\u001b[0m\n",
      "  Testing deferred acceptance | \u001b[1m\u001b[32m  12  \u001b[0m\u001b[1m\u001b[34m   12\u001b[0m\n"
     ]
    },
    {
     "name": "stderr",
     "output_type": "stream",
     "text": [
      "\u001b[1m\u001b[34mINFO: DA tests passed\n",
      "\u001b[0m"
     ]
    }
   ],
   "source": [
    "Pkg.test(\"DA\")"
   ]
  },
  {
   "cell_type": "code",
   "execution_count": 3,
   "metadata": {
    "collapsed": false,
    "deletable": true,
    "editable": true
   },
   "outputs": [
    {
     "data": {
      "text/plain": [
       "([2,8,10,9,1,4,5,6,7,3],[5,1,10,6,7,8,9,2,4,3])"
      ]
     },
     "execution_count": 3,
     "metadata": {},
     "output_type": "execute_result"
    }
   ],
   "source": [
    "m, n = 10, 10\n",
    "m_prefs, f_prefs = generate_random_prefs(m, n)\n",
    "m_matched, f_matched = deferred_acceptance(m_prefs, f_prefs)"
   ]
  },
  {
   "cell_type": "code",
   "execution_count": 4,
   "metadata": {
    "collapsed": false,
    "deletable": true,
    "editable": true
   },
   "outputs": [
    {
     "name": "stdout",
     "output_type": "stream",
     "text": [
      "  0.000017 seconds (135 allocations: 9.344 KB)\n"
     ]
    },
    {
     "data": {
      "text/plain": [
       "([2,8,10,9,1,4,5,6,7,3],[5,1,10,6,7,8,9,2,4,3])"
      ]
     },
     "execution_count": 4,
     "metadata": {},
     "output_type": "execute_result"
    }
   ],
   "source": [
    "@time deferred_acceptance(m_prefs, f_prefs)"
   ]
  },
  {
   "cell_type": "markdown",
   "metadata": {
    "deletable": true,
    "editable": true
   },
   "source": [
    "タイムを計測してみます."
   ]
  },
  {
   "cell_type": "code",
   "execution_count": 5,
   "metadata": {
    "collapsed": false,
    "deletable": true,
    "editable": true,
    "scrolled": true
   },
   "outputs": [
    {
     "name": "stdout",
     "output_type": "stream",
     "text": [
      "  0.000077 seconds (8 allocations: 82.563 KB)\n",
      "  0.000249 seconds (8 allocations: 321.250 KB)\n",
      "  0.001965 seconds (8 allocations: 1.927 MB)\n",
      "  0.012523 seconds (9 allocations: 7.668 MB, 37.19% gc time)\n"
     ]
    }
   ],
   "source": [
    "for (m, n) in [(100, 100), (200, 200), (500, 500), (1000, 1000)]\n",
    "    m_prefs, f_prefs = generate_random_prefs(m, n)\n",
    "    m_matched, f_matched = @time deferred_acceptance(m_prefs, f_prefs)\n",
    "end"
   ]
  },
  {
   "cell_type": "code",
   "execution_count": 6,
   "metadata": {
    "collapsed": false,
    "deletable": true,
    "editable": true
   },
   "outputs": [
    {
     "name": "stdout",
     "output_type": "stream",
     "text": [
      "772 ./task.jl:360; (::IJulia.##13#19)()\n",
      " 772 ...Julia/src/eventloop.jl:8; eventloop(::ZMQ.Socket)\n",
      "  772 ...rc/execute_request.jl:156; execute_request(::ZMQ.Socket, ::...\n",
      "   772 ./loading.jl:441; include_string(::String, ::String)\n",
      "    771 ./<missing>:?; anonymous\n",
      "     771 ./profile.jl:16; macro expansion;\n",
      "      361 ...ia/v0.5/DA/src/DA.jl:8; main(::Array{Array{Int64,1},1}...\n",
      "       303 ./array.jl:158; fill!(::Array{Int64,2}, ::Int64)\n",
      "       49  ./array.jl:159; fill!(::Array{Int64,2}, ::Int64)\n",
      "      123 ...ia/v0.5/DA/src/DA.jl:10; main(::Array{Array{Int64,1},1}...\n",
      "       110 ./iterator.jl:48; next\n",
      "      264 ...ia/v0.5/DA/src/DA.jl:11; main(::Array{Array{Int64,1},1}...\n",
      "      1   ...ia/v0.5/DA/src/DA.jl:30; main(::Array{Array{Int64,1},1}...\n",
      "      7   ...ia/v0.5/DA/src/DA.jl:34; main(::Array{Array{Int64,1},1}...\n",
      "      8   ...ia/v0.5/DA/src/DA.jl:37; main(::Array{Array{Int64,1},1}...\n",
      "      6   ...ia/v0.5/DA/src/DA.jl:38; main(::Array{Array{Int64,1},1}...\n",
      "      1   ...ia/v0.5/DA/src/DA.jl:47; main(::Array{Array{Int64,1},1}...\n",
      "    1   ./inference.jl:1621; typeinf_ext(::LambdaInfo)\n",
      "     1 ./inference.jl:1597; typeinf_edge(::Method, ::Any, :...\n",
      "      1 ...a/lib/julia/sys.dylib:?; typeinf_loop(::Core.Inference.In...\n",
      "       1 ./inference.jl:1677; typeinf_loop(::Core.Inference....\n",
      "        1 ./inference.jl:1786; typeinf_frame(::Core.Inferenc...\n",
      "         1 .../lib/julia/sys.dylib:?; abstract_eval(::Any, ::Array{A...\n",
      "          1 ./inference.jl:1152; abstract_eval(::Any, ::Array...\n",
      "           1 ./inference.jl:1105; abstract_eval_call(::Expr, ...\n",
      "            1 ./abstractarray.jl:485; copy!(::Array{Any,1}, ::Cor...\n",
      "             1 ...ib/julia/sys.dylib:?; abstract_eval(::Any, ::Array...\n",
      "              1 ./inference.jl:1152; abstract_eval(::Any, ::Arr...\n",
      "               1 ./inference.jl:1131; abstract_eval_call(::Expr...\n",
      "                1 ...b/julia/sys.dylib:?; abstract_call(::Any, ::Arr...\n",
      "                 1 ./inference.jl:1101; abstract_call(::Any, ::A...\n",
      "                  1 .../julia/sys.dylib:?; abstract_call_gf_by_type(...\n",
      "                   1 ./inference.jl:893; abstract_call_gf_by_typ...\n",
      "                    1 ...julia/sys.dylib:?; typeinf_edge(::Method, :...\n",
      "                     1 ./inference.jl:1603; typeinf_edge(::Method...\n",
      "                      1 ...julia/sys.dylib:?; typeinf_edge(::Method, ...\n",
      "                       1 ./inference.jl:1597; typeinf_edge(::Metho...\n",
      "                        1 ./inference.jl:1660; typeinf_loop(::Core....\n",
      "                         1 ./inference.jl:1731; typeinf_frame(::Cor...\n",
      "                          1 ...lia/sys.dylib:?; abstract_interpret(:...\n",
      "                           1 ./inference.jl:1243; abstract_interpret...\n",
      "                            1 ...ia/sys.dylib:?; abstract_eval(::Any...\n",
      "                             1 ./inference.jl:1152; abstract_eval(::A...\n",
      "                              1 ...ference.jl:1131; abstract_eval_ca...\n",
      "                               1 ...a/sys.dylib:?; abstract_call(::A...\n",
      "                                1 ...erence.jl:1101; abstract_call(:...\n",
      "                                 1 .../sys.dylib:?; abstract_call_gf...\n",
      "                                  1 ...erence.jl:893; abstract_call_...\n",
      "                                   1 ...sys.dylib:?; typeinf_edge(::...\n",
      "                                    1 ...rence.jl:1603; typeinf_edge...\n",
      "                                     1 ...sys.dylib:?; typeinf_edge(:...\n",
      "                                      1 ...ence.jl:1597; typeinf_edg...\n",
      "                                       1 ...ence.jl:1660; typeinf_loo...\n",
      "                                        1 ...nce.jl:1854; typeinf_fr...\n",
      "                                     +1 1 ...nce.jl:1939; finish(::C...\n",
      "                                     +2 1 ...nce.jl:2872; inlining_p...\n",
      "                                     +3 1 ...s.dylib:?; inlining_pas...\n",
      "                                     +4 1 ...nce.jl:2930; inlining_p...\n",
      "                                     +5 1 ...nce.jl:3025; inlining_p...\n",
      "                                     +6 1 ...s.dylib:?; inlineable(:...\n",
      "                                     +7 1 ...nce.jl:2589; inlineable...\n",
      "                                     +8 1 ...s.dylib:?; typeinf(::Me...\n",
      "                                     +9 1 ...ence.jl:0; typeinf(::Me...\n"
     ]
    }
   ],
   "source": [
    "Profile.clear()\n",
    "m, n = 10^4, 10^4\n",
    "m_prefs, f_prefs = generate_random_prefs(m, n)\n",
    "deferred_acceptance(m_prefs, f_prefs)\n",
    "@profile deferred_acceptance(m_prefs, f_prefs)\n",
    "Profile.print()"
   ]
  },
  {
   "cell_type": "markdown",
   "metadata": {
    "deletable": true,
    "editable": true
   },
   "source": [
    "実行時間のほとんどが前処理(選好順に並んでいる男性リストを男性の番号順に選好を並べる作業)にかかっているようです."
   ]
  },
  {
   "cell_type": "markdown",
   "metadata": {
    "deletable": true,
    "editable": true
   },
   "source": [
    "次に男性・女性の数numに対して, 関数の速さをプロットしてみます."
   ]
  },
  {
   "cell_type": "code",
   "execution_count": 7,
   "metadata": {
    "collapsed": true,
    "deletable": true,
    "editable": true
   },
   "outputs": [],
   "source": [
    "using Plots"
   ]
  },
  {
   "cell_type": "code",
   "execution_count": 8,
   "metadata": {
    "collapsed": false,
    "deletable": true,
    "editable": true
   },
   "outputs": [],
   "source": [
    "range = 100:100:2000\n",
    "loop = 10\n",
    "elapsed = Array(Float64, loop, length(range))\n",
    "\n",
    "for (i, m) in enumerate(range)\n",
    "    for l in 1:loop\n",
    "        m_prefs, f_prefs = generate_random_prefs(m, m)\n",
    "        _, elapsed[l, i], _, _  = @timed deferred_acceptance(m_prefs, f_prefs)\n",
    "    end\n",
    "end"
   ]
  },
  {
   "cell_type": "code",
   "execution_count": 9,
   "metadata": {
    "collapsed": false,
    "deletable": true,
    "editable": true
   },
   "outputs": [
    {
     "name": "stdout",
     "output_type": "stream",
     "text": [
      "[4.90954e-5,0.000290316,0.000478761,0.000794708,0.00120156,0.00213834,0.00291547,0.00626826,0.00444148,0.00597475,0.00850321,0.00870431,0.00912769,0.011356,0.012713,0.0186666,0.0178038,0.0223139,0.0200452,0.0222527][100,200,300,400,500,600,700,800,900,1000,1100,1200,1300,1400,1500,1600,1700,1800,1900,2000]"
     ]
    }
   ],
   "source": [
    "print(vec(mean(sort(elapsed, 1)[1:loop-3, :], 1)))\n",
    "print(collect(range))"
   ]
  },
  {
   "cell_type": "code",
   "execution_count": 10,
   "metadata": {
    "collapsed": false,
    "deletable": true,
    "editable": true,
    "scrolled": true
   },
   "outputs": [
    {
     "data": {
      "text/html": [
       "<img src=\"data:image/png;base64,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\" />"
      ]
     },
     "execution_count": 10,
     "metadata": {},
     "output_type": "execute_result"
    }
   ],
   "source": [
    "plot(range,\n",
    "    vec(mean(sort(elapsed, 1)[1:loop-3, :], 1)),\n",
    "    xlabel=\"num\",\n",
    "    ylabel=\"ms\",\n",
    "    legend=false,\n",
    "    title=\"average time\")"
   ]
  },
  {
   "cell_type": "code",
   "execution_count": 11,
   "metadata": {
    "collapsed": false,
    "deletable": true,
    "editable": true
   },
   "outputs": [
    {
     "name": "stdout",
     "output_type": "stream",
     "text": [
      "  0.951894 seconds (17 allocations: 763.322 MB, 8.75% gc time)\n"
     ]
    },
    {
     "data": {
      "text/plain": [
       "([3147,2750,3039,9061,8013,736,7687,4249,4305,9360  …  8869,5692,3237,3739,3321,9072,1604,9666,9435,9746],[619,9071,1552,7120,4956,6912,6869,8187,5037,158  …  9009,6990,1449,5738,5353,2228,1000,6658,8819,1260])"
      ]
     },
     "execution_count": 11,
     "metadata": {},
     "output_type": "execute_result"
    }
   ],
   "source": [
    "m, n = 10000, 10000\n",
    "m_prefs, f_prefs = generate_random_prefs(m, n)\n",
    "m_matched, f_matched = deferred_acceptance(m_prefs, f_prefs)\n",
    "@time deferred_acceptance(m_prefs, f_prefs)"
   ]
  },
  {
   "cell_type": "markdown",
   "metadata": {
    "collapsed": true,
    "deletable": true,
    "editable": true
   },
   "source": [
    "全体的に以前のコードより3~10倍早くなっています."
   ]
  },
  {
   "cell_type": "code",
   "execution_count": null,
   "metadata": {
    "collapsed": true,
    "deletable": true,
    "editable": true
   },
   "outputs": [],
   "source": []
  }
 ],
 "metadata": {
  "kernelspec": {
   "display_name": "Julia 0.5.2",
   "language": "julia",
   "name": "julia-0.5"
  },
  "language_info": {
   "file_extension": ".jl",
   "mimetype": "application/julia",
   "name": "julia",
   "version": "0.5.2"
  }
 },
 "nbformat": 4,
 "nbformat_minor": 2
}
